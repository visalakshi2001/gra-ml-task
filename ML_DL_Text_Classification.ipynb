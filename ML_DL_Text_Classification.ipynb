{
  "cells": [
    {
      "cell_type": "markdown",
      "source": [
        "# Text Classification"
      ],
      "metadata": {
        "id": "u-0Sydnjf4Td"
      },
      "id": "u-0Sydnjf4Td"
    },
    {
      "cell_type": "markdown",
      "source": [
        "## Package Imports\n",
        "\n",
        "all of the followin packages come preinstalled with colab (except transformers). There is a try-except block to handle that part.\n",
        "\n",
        "Please note that you need to upload the `Problem_Dataset.csv` to the session Files on the left side in order to run the notebook."
      ],
      "metadata": {
        "id": "lAiMQ6A-gAAr"
      },
      "id": "lAiMQ6A-gAAr"
    },
    {
      "cell_type": "code",
      "execution_count": 23,
      "id": "241b84fa",
      "metadata": {
        "id": "241b84fa"
      },
      "outputs": [],
      "source": [
        "import numpy as np\n",
        "import pandas as pd\n",
        "import seaborn as sns\n",
        "from sklearn.model_selection import train_test_split\n",
        "from sklearn.metrics import (classification_report, confusion_matrix,\n",
        "                             f1_score, precision_score, recall_score)\n",
        "from tensorflow import keras\n",
        "from tensorflow.keras import layers\n",
        "from tensorflow.keras.preprocessing.sequence import pad_sequences\n",
        "\n",
        "try:\n",
        "    from transformers import BertTokenizer, TFBertForSequenceClassification\n",
        "except:\n",
        "    !pip install transformers -q\n",
        "    from transformers import BertTokenizer, TFBertForSequenceClassification\n",
        "\n",
        "import tensorflow as tf\n",
        "from tensorflow.keras.metrics import Precision, Recall\n",
        "\n",
        "import seaborn as sns\n",
        "import matplotlib.pyplot as plt"
      ]
    },
    {
      "cell_type": "markdown",
      "source": [
        "## Helper Functions\n",
        "\n",
        "this also includes a function to load models, where it checks the global env variable TRAIN and loads model if the models are present in the file system. Please upload the contents of `saved_models/` from the [repository](https://github.com/visalakshi2001/gra-ml-task/tree/main/saved_models) to the session files directly to avoid re-running the training parts."
      ],
      "metadata": {
        "id": "SmqU1ZIpgbhL"
      },
      "id": "SmqU1ZIpgbhL"
    },
    {
      "cell_type": "code",
      "source": [
        "def read_and_split_data(return_one_hot = True, random_state=101):\n",
        "    df = pd.read_csv('/content/Problem_Dataset.csv')\n",
        "\n",
        "    if return_one_hot:\n",
        "        df_ = pd.DataFrame()\n",
        "        df_[\"Obs\"] = df[\"Obs\"]\n",
        "        df_[\"Type\"] = [arr for arr in df[df[\"Type\"].unique()].values]\n",
        "    else:\n",
        "        df_ = df[[\"Obs\", \"Type\"]]\n",
        "\n",
        "    train_data, val_data = train_test_split(df_, test_size=0.2, random_state=random_state)\n",
        "\n",
        "    return train_data, val_data\n",
        "\n",
        "def tokenize_and_fit(docs):\n",
        "    # Tokenize your text data\n",
        "    tokenizer = keras.preprocessing.text.Tokenizer()\n",
        "    tokenizer.fit_on_texts(docs)\n",
        "\n",
        "    vocab_size = len(tokenizer.word_index) + 1\n",
        "    max_len = max(len(sentence.split()) for sentence in docs)\n",
        "\n",
        "    return tokenizer, max_len\n",
        "\n",
        "\n",
        "def encode_docs(tokenizer, max_length, docs):\n",
        "    # integer encode\n",
        "    encoded = tokenizer.texts_to_sequences(docs)\n",
        "    # pad sequences\n",
        "    padded = pad_sequences(encoded, maxlen=max_length, padding='post')\n",
        "\n",
        "    return padded\n",
        "\n",
        "def create_multi_label_model(vocab_size, max_len, class_to_index: dict, embedding_dim=50, ensemble=False):\n",
        "\n",
        "    if ensemble:\n",
        "        model = keras.Sequential([\n",
        "            layers.Embedding(input_dim=vocab_size, output_dim=embedding_dim, input_length=max_len),\n",
        "            layers.Flatten(),\n",
        "            layers.Dense(128, activation='relu'),\n",
        "            layers.Dense(1, activation='sigmoid')\n",
        "            ])\n",
        "        model.compile(optimizer='adam', loss='binary_crossentropy', metrics=['accuracy'])\n",
        "\n",
        "    else:\n",
        "        num_classes = len(class_to_index.keys())\n",
        "\n",
        "        model = keras.Sequential([\n",
        "            layers.Embedding(input_dim=vocab_size, output_dim=embedding_dim, input_length=max_len),\n",
        "            layers.Flatten(),\n",
        "            layers.Dense(128, activation='relu'),\n",
        "            layers.Dense(num_classes, activation='sigmoid')  # Use sigmoid activation for multi-label classification\n",
        "        ])\n",
        "        model.compile(optimizer='adam', loss='binary_crossentropy', metrics=['accuracy'])\n",
        "\n",
        "    return model\n",
        "\n",
        "\n",
        "def save_model_s(models, name_prefix):\n",
        "    if type(models) == dict:\n",
        "        for l,m in zip(models.keys(),models.values()):\n",
        "            m.save(f'{name_prefix}_{l}.h5')\n",
        "    else:\n",
        "        models.save(f\"{name_prefix}.h5\")\n",
        "\n",
        "def load_model_s(name_prefix, class_to_index, ensemble=True):\n",
        "    from tensorflow.keras.models import load_model\n",
        "\n",
        "    if ensemble:\n",
        "        models={}\n",
        "        for l in class_to_index.keys():\n",
        "            m = load_model(f\"{name_prefix}_{l}.h5\")\n",
        "            models[l] = m\n",
        "        return models\n",
        "    else:\n",
        "        model = load_model(f\"{name_prefix}.h5\")\n",
        "        return model\n",
        "\n",
        "\n",
        "\n",
        "def get_predictions(model, val_data, ensemble=True):\n",
        "\n",
        "    if ensemble:\n",
        "        ensemble_predictions = []\n",
        "        for model_label, model in models.items():\n",
        "            val_predictions = model.predict(encode_docs(tokenizer, max_len, val_data[\"Obs\"]))\n",
        "            ensemble_predictions.append(val_predictions)\n",
        "\n",
        "        # Create an array of predictions for each input text\n",
        "        ensemble_predictions = np.array(ensemble_predictions).squeeze().T\n",
        "        # Threshold ensemble predictions for binary classification\n",
        "        binary_ensemble_predictions = (ensemble_predictions > 0.5).astype(int)\n",
        "\n",
        "        y_hat = np.argmax((ensemble_predictions > 0.5).astype(int), axis=1)\n",
        "\n",
        "        return y_hat\n",
        "    else:\n",
        "\n",
        "        multiclass_predictions = model.predict(encode_docs(tokenizer, max_len, val_data['Obs']))\n",
        "        y_hat = (multiclass_predictions > 0.5).astype(int)\n",
        "\n",
        "\n",
        "        return y_hat\n",
        "\n",
        "def evaluate_model(val_data, y_hat, labels, ensemble=True, plot=True):\n",
        "\n",
        "    if ensemble:\n",
        "        y_val = val_data[\"Type\"].apply(lambda x: list(models.keys()).index(x)).values\n",
        "    else:\n",
        "        # Predictions on validation set\n",
        "        y_val = np.array([np.asarray(x, dtype = np.float64) for x in val_data[\"Type\"]])\n",
        "\n",
        "\n",
        "    # Obtain precision, recall, F1-score, and print the classification report\n",
        "    print(\"Ensemble Classification Report:\")\n",
        "    print(classification_report(y_val, y_hat, target_names=labels))\n",
        "\n",
        "    if plot:\n",
        "\n",
        "        if ensemble:\n",
        "            cm = confusion_matrix(y_pred=y_hat, y_true=y_val)\n",
        "            plt.figure(figsize=(10,7))\n",
        "            sns.heatmap(pd.DataFrame(cm,list(labels),list(labels)), annot=True)\n",
        "\n",
        "        else:\n",
        "            cm = confusion_matrix(y_pred=np.argmax(y_hat, axis=1), y_true=np.argmax(y_val, axis=1))\n",
        "            plt.figure(figsize=(10,7))\n",
        "            sns.heatmap(pd.DataFrame(cm,list(labels),list(labels)), annot=True)\n",
        "\n",
        "    return y_val, y_hat"
      ],
      "metadata": {
        "id": "MlpK7OwH1yuj"
      },
      "id": "MlpK7OwH1yuj",
      "execution_count": 105,
      "outputs": []
    },
    {
      "cell_type": "code",
      "source": [
        "df = pd.read_csv('/content/Problem_Dataset.csv')"
      ],
      "metadata": {
        "id": "z7LuYQI4-MMg"
      },
      "id": "z7LuYQI4-MMg",
      "execution_count": 30,
      "outputs": []
    },
    {
      "cell_type": "markdown",
      "source": [
        "If you want to run the training functions in the notebook (and train the models from scratch) then set the `TRAIN` here to `True`.\n",
        "\n",
        "Kindly note that doing so may consume a significant amount of compute resources (especially in the BERT model).\n",
        "\n",
        "We instead recommend uploading the models provided in the `saved_models/` of [github repository](https://github.com/visalakshi2001/gra-ml-task/tree/main/saved_models) in the session and leave the TRAIN to false."
      ],
      "metadata": {
        "id": "K7ijCp1PnHFJ"
      },
      "id": "K7ijCp1PnHFJ"
    },
    {
      "cell_type": "code",
      "source": [
        "class_to_index = dict(zip(df['Type'].unique(), range(len(df['Type'].unique()))))\n",
        "\n",
        "TRAIN = False"
      ],
      "metadata": {
        "id": "1tuL65DUBhxF"
      },
      "id": "1tuL65DUBhxF",
      "execution_count": 32,
      "outputs": []
    },
    {
      "cell_type": "markdown",
      "id": "1229a4f9",
      "metadata": {
        "id": "1229a4f9"
      },
      "source": [
        "## Subtask 1: First Pass (Ensemble)"
      ]
    },
    {
      "cell_type": "markdown",
      "source": [
        "Load train Test data for ensemble models.\n",
        "`return_one_hot` gives one_hot_encoded labels.  \n",
        "For ensemble models, we will perform encoding with each training iteration. hence this variable is set to `False`."
      ],
      "metadata": {
        "id": "1j2WVkG3hTHN"
      },
      "id": "1j2WVkG3hTHN"
    },
    {
      "cell_type": "code",
      "source": [
        "ensemble_train, ensemble_val = read_and_split_data(return_one_hot=False)"
      ],
      "metadata": {
        "id": "D1UXtQCD9GHJ"
      },
      "id": "D1UXtQCD9GHJ",
      "execution_count": 72,
      "outputs": []
    },
    {
      "cell_type": "markdown",
      "source": [
        "The follow code cells tokenize the `\"Obs\"` column and trains a simple sequential Deep Learning model on the same iteratively for each label in the `\"Type\"` column"
      ],
      "metadata": {
        "id": "d-GUnSxxhtSr"
      },
      "id": "d-GUnSxxhtSr"
    },
    {
      "cell_type": "code",
      "execution_count": 73,
      "id": "418f1d7a",
      "metadata": {
        "id": "418f1d7a"
      },
      "outputs": [],
      "source": [
        "# Tokenize text data\n",
        "tokenizer, max_len = tokenize_and_fit(ensemble_train['Obs'])\n",
        "vocab_size = len(tokenizer.word_index) + 1\n"
      ]
    },
    {
      "cell_type": "markdown",
      "source": [
        "`create_multi_label_model(ensemble=True)` helps create a binary-classification model with a sigmoid output with 2 labels.\n",
        "\n",
        "if set to `False` it will create a multi-label model with cross-entropy functions."
      ],
      "metadata": {
        "id": "TNumV8ABh8WU"
      },
      "id": "TNumV8ABh8WU"
    },
    {
      "cell_type": "code",
      "execution_count": null,
      "id": "8f3cfea0",
      "metadata": {
        "id": "8f3cfea0"
      },
      "outputs": [],
      "source": [
        "# Train a model for each label\n",
        "if TRAIN:\n",
        "    models = {}\n",
        "    for label in df['Type'].unique():\n",
        "\n",
        "        X_data = encode_docs(tokenizer, max_len, ensemble_train[\"Obs\"])\n",
        "        binary_labels = (ensemble_train['Type'] == label).astype(int)\n",
        "        y_data = np.asarray(binary_labels)\n",
        "\n",
        "        model = create_multi_label_model(vocab_size=vocab_size,\n",
        "                                        ensemble=True, # creates a binary output layer\n",
        "                                        class_to_index=class_to_index,\n",
        "                                        max_len=max_len)\n",
        "        model.fit(X_data, y_data, epochs=10, batch_size=32, validation_split=0.2)\n",
        "        models[label] = model\n",
        "\n",
        "    # Save the ensembler models\n",
        "    save_model_s(models, \"ensemble_model\")\n"
      ]
    },
    {
      "cell_type": "markdown",
      "source": [
        "The `save_mode_s()` function will check whether the model is an ensemble model or a multi-label model, and save the model accordingly.\n",
        "\n",
        "The output of our ensembler model is like this:\n",
        "\n",
        "```\n",
        "{'B3': <keras.src.engine.sequential.Sequential at 0x7d6ee6ea61d0>,\n",
        " 'B4': <keras.src.engine.sequential.Sequential at 0x7d6f1afe5a80>,\n",
        " 'A3': <keras.src.engine.sequential.Sequential at 0x7d6f1afdf400>,\n",
        " 'B1': <keras.src.engine.sequential.Sequential at 0x7d6ee6ea74c0>,\n",
        " 'B2': <keras.src.engine.sequential.Sequential at 0x7d6f1b00d5d0>,\n",
        " 'A1': <keras.src.engine.sequential.Sequential at 0x7d6ee6b77280>,\n",
        " 'A2': <keras.src.engine.sequential.Sequential at 0x7d6ee6bd3430>}\n",
        "```\n",
        "\n",
        "The saved models are in the `/content/` path of the colab file structure"
      ],
      "metadata": {
        "id": "oRyxYeJaiNt5"
      },
      "id": "oRyxYeJaiNt5"
    },
    {
      "cell_type": "code",
      "source": [
        "# Load all the models into an ensemble\n",
        "\n",
        "models = load_model_s(ensemble=True, name_prefix=\"ensemble_model\", class_to_index=class_to_index)"
      ],
      "metadata": {
        "id": "V4C7wYQkilWp"
      },
      "id": "V4C7wYQkilWp",
      "execution_count": 107,
      "outputs": []
    },
    {
      "cell_type": "markdown",
      "source": [
        "`get_predictions()` calculates the prediction for te 20% of the split that is saved as validation data."
      ],
      "metadata": {
        "id": "Ov2ZQ4Z9jwJK"
      },
      "id": "Ov2ZQ4Z9jwJK"
    },
    {
      "cell_type": "code",
      "execution_count": 108,
      "id": "6992fa77",
      "metadata": {
        "id": "6992fa77",
        "colab": {
          "base_uri": "https://localhost:8080/"
        },
        "outputId": "44615cd2-d5e0-434e-cb53-9acae5a4a5f4"
      },
      "outputs": [
        {
          "output_type": "stream",
          "name": "stdout",
          "text": [
            "7/7 [==============================] - 0s 2ms/step\n",
            "7/7 [==============================] - 0s 2ms/step\n",
            "7/7 [==============================] - 0s 2ms/step\n",
            "7/7 [==============================] - 0s 3ms/step\n",
            "7/7 [==============================] - 0s 3ms/step\n",
            "7/7 [==============================] - 0s 3ms/step\n",
            "7/7 [==============================] - 0s 2ms/step\n"
          ]
        }
      ],
      "source": [
        "y_hat = get_predictions(models, ensemble_val, ensemble=True)"
      ]
    },
    {
      "cell_type": "markdown",
      "source": [
        "`evaluate_model()` calculates the classification report.\n",
        "\n",
        "Note that the `ensemble` parameter is common in all functions in order to reuse the calculation function for almost all techniques used in this notebook. `ensemble=True/False` makes the calculations unique.\n",
        "  \n",
        ".-----.\n",
        "\n",
        "**Also note that the 4th task of evaluation is yet present at the end of the notebook.**"
      ],
      "metadata": {
        "id": "0P_j2onPj8Hb"
      },
      "id": "0P_j2onPj8Hb"
    },
    {
      "cell_type": "code",
      "execution_count": 109,
      "id": "792344a5",
      "metadata": {
        "id": "792344a5",
        "outputId": "93f121be-1ba9-49ec-9897-27aede441d10",
        "colab": {
          "base_uri": "https://localhost:8080/",
          "height": 859
        }
      },
      "outputs": [
        {
          "output_type": "stream",
          "name": "stdout",
          "text": [
            "Ensemble Classification Report:\n",
            "              precision    recall  f1-score   support\n",
            "\n",
            "          B3       0.28      0.94      0.44        33\n",
            "          B4       0.88      0.20      0.33        35\n",
            "          A3       0.69      0.35      0.47        31\n",
            "          B1       0.96      0.77      0.85        30\n",
            "          B2       0.96      0.81      0.88        27\n",
            "          A1       0.88      0.25      0.39        28\n",
            "          A2       0.64      0.54      0.58        26\n",
            "\n",
            "    accuracy                           0.55       210\n",
            "   macro avg       0.75      0.55      0.56       210\n",
            "weighted avg       0.75      0.55      0.55       210\n",
            "\n"
          ]
        },
        {
          "output_type": "display_data",
          "data": {
            "text/plain": [
              "<Figure size 1000x700 with 2 Axes>"
            ],
            "image/png": "[encoded data removed]"
          },
          "metadata": {}
        }
      ],
      "source": [
        "y_val_ensem, y_hat_ensem = evaluate_model(ensemble_val, y_hat, labels=class_to_index.keys(), ensemble=True)"
      ]
    },
    {
      "cell_type": "markdown",
      "source": [
        "<div style=\"border: 2px solid #FFD700; /* Blue border color */\n",
        "        background-color: #fffee0; /* Light-blue background color */\n",
        "        border-radius: 10px; /* Rounded corners */\n",
        "        padding: 10px; /* Padding for content inside the cell */\n",
        "        color: #000000;\">\n",
        "    <h1>💡 Evaluation Results</h1>\n",
        "    The off-diagonal values represent the number of incorrect predictions, where the model predicted one class but the actual label was different. These are also known as False Positives and False Negatives. The model seems to have a lower number of correct predictions for classes A2 and B3.\n",
        "</div>\n"
      ],
      "metadata": {
        "id": "dL4qDySXkjVT"
      },
      "id": "dL4qDySXkjVT"
    },
    {
      "cell_type": "markdown",
      "id": "a1b09cdc",
      "metadata": {
        "id": "a1b09cdc"
      },
      "source": [
        "## Subtask 2: Second Pass (Multi-label)"
      ]
    },
    {
      "cell_type": "markdown",
      "source": [
        "Load train Test data for multi-label model.\n",
        "`return_one_hot` gives one_hot_encoded labels.  \n",
        "For multi-label model, the function returns a column with encoded list of labels; hence this variable is set to `True`."
      ],
      "metadata": {
        "id": "bqvasubblyOG"
      },
      "id": "bqvasubblyOG"
    },
    {
      "cell_type": "code",
      "execution_count": 66,
      "id": "0f96c6d9",
      "metadata": {
        "id": "0f96c6d9"
      },
      "outputs": [],
      "source": [
        "multiclass_train, multiclass_val = read_and_split_data(return_one_hot=True)"
      ]
    },
    {
      "cell_type": "markdown",
      "source": [
        "The follow code cells tokenize the `\"Obs\"` column and trains a simple sequential multi-label Deep Learning model on the same for each label-vector in the `\"Type\"` column.  \n",
        "\n",
        "***Please note that since `TRAIN` is set to `False`, the training cell will not run. if you want to train the model in this session, set the parameter to True in the `HELPER FUNCTION section above.***"
      ],
      "metadata": {
        "id": "ebUVao-Tl_EE"
      },
      "id": "ebUVao-Tl_EE"
    },
    {
      "cell_type": "code",
      "execution_count": 74,
      "id": "a09ed863",
      "metadata": {
        "id": "a09ed863"
      },
      "outputs": [],
      "source": [
        "# Tokenize your text data\n",
        "tokenizer, max_len = tokenize_and_fit(multiclass_train[\"Obs\"])\n",
        "vocab_size = len(tokenizer.word_index) + 1\n"
      ]
    },
    {
      "cell_type": "code",
      "execution_count": 69,
      "id": "b2e0b5ee",
      "metadata": {
        "scrolled": true,
        "id": "b2e0b5ee"
      },
      "outputs": [],
      "source": [
        "# Train a multi-label model\n",
        "\n",
        "if TRAIN:\n",
        "    X_data = encode_docs(tokenizer, max_len, multiclass_train[\"Obs\"])\n",
        "    binary_labels = [np.asarray(x, dtype = np.float64) for x in multiclass_train[\"Type\"]]\n",
        "    y_data = np.array(binary_labels)\n",
        "\n",
        "    multi_label_model = create_multi_label_model(vocab_size=vocab_size,\n",
        "                                                max_len=max_len,\n",
        "                                                class_to_index=class_to_index,\n",
        "                                                ensemble=False)\n",
        "    multi_label_model.fit(X_data, y_data, epochs=30, batch_size=32, validation_split=0.2)\n",
        "\n",
        "    # Save the model below\n",
        "    save_model_s(multi_label_model, \"multilabel_model\")"
      ]
    },
    {
      "cell_type": "code",
      "execution_count": 110,
      "id": "291b7a66",
      "metadata": {
        "id": "291b7a66",
        "colab": {
          "base_uri": "https://localhost:8080/"
        },
        "outputId": "36d2da7f-389a-497e-e61e-15dbc438f994"
      },
      "outputs": [
        {
          "output_type": "stream",
          "name": "stdout",
          "text": [
            "7/7 [==============================] - 0s 3ms/step\n"
          ]
        }
      ],
      "source": [
        "# Load the model\n",
        "model = load_model_s(ensemble=False, name_prefix='multilabel_model', class_to_index=class_to_index)\n",
        "\n",
        "y_hat = get_predictions(model, multiclass_val, ensemble=False)"
      ]
    },
    {
      "cell_type": "markdown",
      "source": [
        "We are reusing the helper functions with ensemble=False below."
      ],
      "metadata": {
        "id": "qhBg_8KAoEmO"
      },
      "id": "qhBg_8KAoEmO"
    },
    {
      "cell_type": "code",
      "execution_count": 111,
      "id": "b2167567",
      "metadata": {
        "id": "b2167567",
        "outputId": "790e2bdb-5590-469e-c480-9055a1a173c1",
        "colab": {
          "base_uri": "https://localhost:8080/",
          "height": 937
        }
      },
      "outputs": [
        {
          "output_type": "stream",
          "name": "stdout",
          "text": [
            "Ensemble Classification Report:\n",
            "              precision    recall  f1-score   support\n",
            "\n",
            "          B3       0.94      0.48      0.64        33\n",
            "          B4       0.84      0.46      0.59        35\n",
            "          A3       0.73      0.26      0.38        31\n",
            "          B1       0.95      0.63      0.76        30\n",
            "          B2       0.94      0.59      0.73        27\n",
            "          A1       0.67      0.36      0.47        28\n",
            "          A2       0.68      0.50      0.58        26\n",
            "\n",
            "   micro avg       0.83      0.47      0.60       210\n",
            "   macro avg       0.82      0.47      0.59       210\n",
            "weighted avg       0.83      0.47      0.59       210\n",
            " samples avg       0.47      0.47      0.47       210\n",
            "\n"
          ]
        },
        {
          "output_type": "stream",
          "name": "stderr",
          "text": [
            "/usr/local/lib/python3.10/dist-packages/sklearn/metrics/_classification.py:1344: UndefinedMetricWarning: Precision and F-score are ill-defined and being set to 0.0 in samples with no predicted labels. Use `zero_division` parameter to control this behavior.\n",
            "  _warn_prf(average, modifier, msg_start, len(result))\n"
          ]
        },
        {
          "output_type": "display_data",
          "data": {
            "text/plain": [
              "<Figure size 1000x700 with 2 Axes>"
            ],
            "image/png": "[encoded data removed]"
          },
          "metadata": {}
        }
      ],
      "source": [
        "y_val_multi, y_hat_multi = evaluate_model(y_hat=y_hat, val_data=multiclass_val,labels=class_to_index.keys(), ensemble=False)"
      ]
    },
    {
      "cell_type": "markdown",
      "source": [
        "<div style=\"border: 2px solid #FFD700; /* Blue border color */\n",
        "        background-color: #fffee0; /* Light-blue background color */\n",
        "        border-radius: 10px; /* Rounded corners */\n",
        "        padding: 10px; /* Padding for content inside the cell */\n",
        "        color: #000000;\">\n",
        "    <h1>💡 Evaluation Results</h1>\n",
        "    The off-diagonal values represent the number of incorrect predictions, where the model predicted one class but the actual label was different. These are also known as False Positives and False Negatives. The model seems to have a lower number of correct predictions for class B3.\n",
        "</div>\n"
      ],
      "metadata": {
        "id": "qdNOimwKn_8V"
      },
      "id": "qdNOimwKn_8V"
    },
    {
      "cell_type": "markdown",
      "id": "99ad42ce",
      "metadata": {
        "id": "99ad42ce"
      },
      "source": [
        "## Third Pass (BERT)"
      ]
    },
    {
      "cell_type": "markdown",
      "source": [
        "Fetching fine-tuned model from g-drive for backup"
      ],
      "metadata": {
        "id": "3TUBRno0shmW"
      },
      "id": "3TUBRno0shmW"
    },
    {
      "cell_type": "code",
      "source": [
        "!wget --no-check-certificate 'https://docs.google.com/uc?export=download&id=1uCR3DMq0BATJaJwPylP2YW_Pn5gGkfLd&confirm=t' -r -A 'uc*' -e robots=off -nd -O 'fine_tuned_bert_model_tf.zip'"
      ],
      "metadata": {
        "id": "coWcuhPuo5A5"
      },
      "id": "coWcuhPuo5A5",
      "execution_count": null,
      "outputs": []
    },
    {
      "cell_type": "markdown",
      "source": [
        "Loading Train Test data for BERT model"
      ],
      "metadata": {
        "id": "dWGSNxBosax4"
      },
      "id": "dWGSNxBosax4"
    },
    {
      "cell_type": "code",
      "source": [
        "bert_train, bert_val = read_and_split_data(return_one_hot=True)"
      ],
      "metadata": {
        "id": "KwvZWARHIZ5r"
      },
      "id": "KwvZWARHIZ5r",
      "execution_count": 93,
      "outputs": []
    },
    {
      "cell_type": "markdown",
      "source": [
        "Using `bert-base-uncased` model becase of te size of the training sample bein `<1000`.  \n",
        "Also, the data can be handled in lowercase format.  \n",
        "\n",
        "Using BertTokenizer with Tensorflow to avoid complications with compute capacities."
      ],
      "metadata": {
        "id": "n3jzMhokswfs"
      },
      "id": "n3jzMhokswfs"
    },
    {
      "cell_type": "code",
      "source": [
        "\n",
        "# Load pre-trained BERT model and tokenizer\n",
        "model_name = 'bert-base-uncased'\n",
        "tokenizer = BertTokenizer.from_pretrained(model_name)\n",
        "model = TFBertForSequenceClassification.from_pretrained(model_name, num_labels=len(df['Type'].unique()))\n",
        "\n",
        "\n",
        "train_inputs = tokenizer.batch_encode_plus(list(bert_train['Obs']), add_special_tokens=True, padding=True, truncation=True, return_tensors='np', max_length=tokenizer.model_max_length)\n",
        "val_inputs = tokenizer.batch_encode_plus(list(bert_val['Obs']), add_special_tokens=True, padding=True, truncation=True, return_tensors='np', max_length=tokenizer.model_max_length)\n",
        "\n",
        "\n",
        "train_labels = tf.convert_to_tensor([label for label in bert_train[\"Type\"]])\n",
        "val_labels = tf.convert_to_tensor([label for label in bert_val[\"Type\"]])\n",
        "\n",
        "\n"
      ],
      "metadata": {
        "colab": {
          "base_uri": "https://localhost:8080/",
          "height": 266,
          "referenced_widgets": [
            "e6713e09b84f49bf9f9bfda3735595c4",
            "d9bbb04c71164a6780d62784ea0044dd",
            "ed9dc7ffbd0e486391c9345523c9ed3d",
            "d60923f06f9046c283b8b703cbfa142a",
            "6ed6c7c262244231a28050b23e2da9b0",
            "42d536f5d7c14ec9826c5c2a8f50086e",
            "b984af337f264f6d9bcade280685ce5b",
            "0ae9568334fd48dc85d8e6c26089bb87",
            "84dee44b0df64ed996f1a016df8b4eea",
            "f3173d12e10c4d90bdc6a0af42d4d1ed",
            "ffb2b5974c1f44aba24c01f4ba42e7ae",
            "9290afcdb5e242e4859b7c30a6f2a452",
            "90375a98badf4729a248442fbfb861b9",
            "43d4ceda0e20406287826cc449520021",
            "a8b00ac783014b82ad26f563d0e6ecfb",
            "f0438e8849654f00a1fe066150505725",
            "f079bbcf1c754b48a4f0453ecfa69cde",
            "421b204bdcc2411d80a89535f77f4fed",
            "0f1f8708786c417cb4d279c505c159ca",
            "cb2accde54bb4bd8a9a494644747743d",
            "21d430c0dd664f09be1f51c3151d4114",
            "065b0c7790274b56b534ee4bf1e0ecf6",
            "32e63c8e96ab4497923191747b5fe7c2",
            "87645fd537a0498484809a3357669c91",
            "6cb726fb97174b15ae23443c96ad4814",
            "1582d80250d34a769e7442240fdc6e47",
            "009dbb94f43b4ff08950fc78be2a3da6",
            "1287124d7dfb4c86aca8409f40edb60b",
            "07fabfc67acd406ba03c26e0f64433bf",
            "b0b37ae81376486aa70a6bdfd83abf6f",
            "cb81aba2ee3043a1ba2f6c27bc94ae7d",
            "fa5e9db0012b4316bf1fb5ed875cd830",
            "2aa2c2b11e3742b4a4123e05ad31e833",
            "83c8411968104795bc9a3fef70860e4e",
            "6240d69626b24f22990d205e08d8cdae",
            "819d7b55daea4b1291e75aa4ced49f60",
            "2c2e8aae87004489ab7074e3cc84f6f6",
            "218d9d33e2794d2c95177b2080456f2c",
            "119f66da54a04652b7764faa28769ec2",
            "2a8b1b9a262d499e81d88acaa883766f",
            "71c5967b6c1146b7b7b9646a5a38cab7",
            "75c7eb4ea7be4bd4a78d564c3c442a2d",
            "d595903361524c8eae7ff73942c1b47f",
            "fa8e9a5ba10c4158b945b636988301e3",
            "363d2f720fae4c2e911428c40bba9b2f",
            "56d2ef86e60349b48aaa4e0f02e765a8",
            "cc1756c4041645b7827196a54b840258",
            "0e9d1c6b9cda402b8aebb76aa4a013e6",
            "6fcef439eef2471db9d41ef5939833ec",
            "4dadd36778474100a8aabf1927c6f138",
            "abefd76ed03e4c99af4885df22844455",
            "a61578f1d3464be59a9568c34fee9b3c",
            "913654b14ba445859ca425cfda028218",
            "9e775cf0a8034b588ee5ebca8ba83d11",
            "0e0e56a8176b44928bf3da71e6c6fd5f"
          ]
        },
        "id": "8tNrwAzmdiiG",
        "outputId": "46cb30f1-293d-466f-f7f9-b8142f77dfc3"
      },
      "id": "8tNrwAzmdiiG",
      "execution_count": 6,
      "outputs": [
        {
          "output_type": "display_data",
          "data": {
            "text/plain": [
              "Downloading (…)okenizer_config.json:   0%|          | 0.00/28.0 [00:00<?, ?B/s]"
            ],
            "application/vnd.jupyter.widget-view+json": {
              "version_major": 2,
              "version_minor": 0,
              "model_id": "e6713e09b84f49bf9f9bfda3735595c4"
            }
          },
          "metadata": {}
        },
        {
          "output_type": "display_data",
          "data": {
            "text/plain": [
              "Downloading (…)solve/main/vocab.txt:   0%|          | 0.00/232k [00:00<?, ?B/s]"
            ],
            "application/vnd.jupyter.widget-view+json": {
              "version_major": 2,
              "version_minor": 0,
              "model_id": "9290afcdb5e242e4859b7c30a6f2a452"
            }
          },
          "metadata": {}
        },
        {
          "output_type": "display_data",
          "data": {
            "text/plain": [
              "Downloading (…)/main/tokenizer.json:   0%|          | 0.00/466k [00:00<?, ?B/s]"
            ],
            "application/vnd.jupyter.widget-view+json": {
              "version_major": 2,
              "version_minor": 0,
              "model_id": "32e63c8e96ab4497923191747b5fe7c2"
            }
          },
          "metadata": {}
        },
        {
          "output_type": "display_data",
          "data": {
            "text/plain": [
              "Downloading (…)lve/main/config.json:   0%|          | 0.00/570 [00:00<?, ?B/s]"
            ],
            "application/vnd.jupyter.widget-view+json": {
              "version_major": 2,
              "version_minor": 0,
              "model_id": "83c8411968104795bc9a3fef70860e4e"
            }
          },
          "metadata": {}
        },
        {
          "output_type": "display_data",
          "data": {
            "text/plain": [
              "Downloading model.safetensors:   0%|          | 0.00/440M [00:00<?, ?B/s]"
            ],
            "application/vnd.jupyter.widget-view+json": {
              "version_major": 2,
              "version_minor": 0,
              "model_id": "363d2f720fae4c2e911428c40bba9b2f"
            }
          },
          "metadata": {}
        },
        {
          "output_type": "stream",
          "name": "stderr",
          "text": [
            "All PyTorch model weights were used when initializing TFBertForSequenceClassification.\n",
            "\n",
            "Some weights or buffers of the TF 2.0 model TFBertForSequenceClassification were not initialized from the PyTorch model and are newly initialized: ['classifier.weight', 'classifier.bias']\n",
            "You should probably TRAIN this model on a down-stream task to be able to use it for predictions and inference.\n"
          ]
        }
      ]
    },
    {
      "cell_type": "markdown",
      "source": [
        "You can set thhe following to `True`, although for this part, TPU was used for faster training (which took 300 seconds ~ around 5 minutes).\n",
        "On CPU this cell would take more than an hour to run 10 epochs."
      ],
      "metadata": {
        "id": "E_D_tKMJtniR"
      },
      "id": "E_D_tKMJtniR"
    },
    {
      "cell_type": "code",
      "source": [
        "if TRAIN:\n",
        "    model.compile(optimizer=tf.keras.optimizers.Adam(learning_rate=3e-5, epsilon=1e-08, clipnorm=1.0),\n",
        "                loss=tf.keras.losses.CategoricalCrossentropy(from_logits=True),\n",
        "                metrics=[Precision(), Recall()])\n",
        "\n",
        "    history = model.fit(dict(train_inputs), train_labels,\n",
        "                        epochs=10,\n",
        "                        batch_size=8,\n",
        "                        validation_data=(dict(val_inputs), val_labels)\n",
        "            )\n",
        "\n",
        "    # Save the fine-tuned model\n",
        "    model.save_pretrained('/content/fine_tuned_bert_model_tf')"
      ],
      "metadata": {
        "colab": {
          "base_uri": "https://localhost:8080/"
        },
        "id": "SC1RONlSf7Dl",
        "outputId": "df817365-ea25-4436-8c03-bd9012728d46"
      },
      "id": "SC1RONlSf7Dl",
      "execution_count": 7,
      "outputs": [
        {
          "output_type": "stream",
          "name": "stdout",
          "text": [
            "Epoch 1/10\n",
            "105/105 [==============================] - 83s 174ms/step - loss: 1.4846 - precision: 0.4302 - recall: 0.5060 - val_loss: 0.9127 - val_precision: 0.4739 - val_recall: 0.9095\n",
            "Epoch 2/10\n",
            "105/105 [==============================] - 12s 113ms/step - loss: 0.6276 - precision: 0.4809 - recall: 0.9762 - val_loss: 0.7676 - val_precision: 0.5108 - val_recall: 0.9000\n",
            "Epoch 3/10\n",
            "105/105 [==============================] - 12s 118ms/step - loss: 0.3195 - precision: 0.5669 - recall: 0.9940 - val_loss: 0.7117 - val_precision: 0.5282 - val_recall: 0.9381\n",
            "Epoch 4/10\n",
            "105/105 [==============================] - 12s 112ms/step - loss: 0.1684 - precision: 0.6433 - recall: 0.9940 - val_loss: 0.7241 - val_precision: 0.5714 - val_recall: 0.9143\n",
            "Epoch 5/10\n",
            "105/105 [==============================] - 12s 113ms/step - loss: 0.1094 - precision: 0.7218 - recall: 0.9976 - val_loss: 0.7671 - val_precision: 0.5698 - val_recall: 0.9333\n",
            "Epoch 6/10\n",
            "105/105 [==============================] - 11s 108ms/step - loss: 0.0821 - precision: 0.7513 - recall: 0.9964 - val_loss: 0.8676 - val_precision: 0.5975 - val_recall: 0.9190\n",
            "Epoch 7/10\n",
            "105/105 [==============================] - 12s 115ms/step - loss: 0.0368 - precision: 0.7763 - recall: 1.0000 - val_loss: 0.9367 - val_precision: 0.6287 - val_recall: 0.9190\n",
            "Epoch 8/10\n",
            "105/105 [==============================] - 12s 115ms/step - loss: 0.0287 - precision: 0.8132 - recall: 1.0000 - val_loss: 0.9963 - val_precision: 0.6295 - val_recall: 0.9143\n",
            "Epoch 9/10\n",
            "105/105 [==============================] - 12s 111ms/step - loss: 0.0186 - precision: 0.8598 - recall: 1.0000 - val_loss: 1.0039 - val_precision: 0.6429 - val_recall: 0.9000\n",
            "Epoch 10/10\n",
            "105/105 [==============================] - 12s 111ms/step - loss: 0.0094 - precision: 0.9121 - recall: 1.0000 - val_loss: 1.0613 - val_precision: 0.6560 - val_recall: 0.8810\n"
          ]
        }
      ]
    },
    {
      "cell_type": "code",
      "source": [
        "import os\n",
        "\n",
        "if os.path.exists('/content/fine_tuned_bert_model_tf'):\n",
        "    # Load the fine-tuned model\n",
        "    fine_tuned_model_tf = TFBertForSequenceClassification.from_pretrained('/content/fine_tuned_bert_model_tf')\n",
        "else:\n",
        "    !unzip '/content/fine_tuned_bert_model_tf' -d \"/content\"\n",
        "    fine_tuned_model_tf = TFBertForSequenceClassification.from_pretrained('/content/fine_tuned_bert_model_tf')"
      ],
      "metadata": {
        "colab": {
          "base_uri": "https://localhost:8080/"
        },
        "id": "64qRoMvvuTpF",
        "outputId": "98d1ef67-1e70-4811-99cf-79e6d7fe0bf1"
      },
      "id": "64qRoMvvuTpF",
      "execution_count": 112,
      "outputs": [
        {
          "output_type": "stream",
          "name": "stderr",
          "text": [
            "Some layers from the model checkpoint at /content/fine_tuned_bert_model_tf were not used when initializing TFBertForSequenceClassification: ['dropout_37']\n",
            "- This IS expected if you are initializing TFBertForSequenceClassification from the checkpoint of a model trained on another task or with another architecture (e.g. initializing a BertForSequenceClassification model from a BertForPreTraining model).\n",
            "- This IS NOT expected if you are initializing TFBertForSequenceClassification from the checkpoint of a model that you expect to be exactly identical (initializing a BertForSequenceClassification model from a BertForSequenceClassification model).\n",
            "All the layers of TFBertForSequenceClassification were initialized from the model checkpoint at /content/fine_tuned_bert_model_tf.\n",
            "If your task is similar to the task the model of the checkpoint was trained on, you can already use TFBertForSequenceClassification for predictions without further training.\n"
          ]
        }
      ]
    },
    {
      "cell_type": "markdown",
      "source": [
        "Evaluation predictions"
      ],
      "metadata": {
        "id": "MfX5GVXZuTWk"
      },
      "id": "MfX5GVXZuTWk"
    },
    {
      "cell_type": "code",
      "source": [
        "val_preds_tf = fine_tuned_model_tf.predict(dict(val_inputs))['logits']\n",
        "val_preds_tf = tf.math.sigmoid(val_preds_tf)\n",
        "y_hat = (val_preds_tf > 0.5).numpy()\n"
      ],
      "metadata": {
        "colab": {
          "base_uri": "https://localhost:8080/"
        },
        "id": "mUzcnUnZfAOR",
        "outputId": "dba8d95e-69de-4376-e3c0-d946e2d64d02"
      },
      "id": "mUzcnUnZfAOR",
      "execution_count": 113,
      "outputs": [
        {
          "output_type": "stream",
          "name": "stdout",
          "text": [
            "7/7 [==============================] - 6s 97ms/step\n"
          ]
        }
      ]
    },
    {
      "cell_type": "code",
      "source": [
        "y_val_bert, y_hat_bert = evaluate_model(val_data=bert_val, ensemble=False, labels=class_to_index.keys(), y_hat=y_hat)"
      ],
      "metadata": {
        "colab": {
          "base_uri": "https://localhost:8080/",
          "height": 877
        },
        "id": "782UhKLfbCAs",
        "outputId": "234aa9ee-5767-49b4-df75-32ceea5d99fc"
      },
      "id": "782UhKLfbCAs",
      "execution_count": 118,
      "outputs": [
        {
          "output_type": "stream",
          "name": "stdout",
          "text": [
            "Ensemble Classification Report:\n",
            "              precision    recall  f1-score   support\n",
            "\n",
            "          B3       0.63      0.94      0.76        33\n",
            "          B4       0.83      1.00      0.91        35\n",
            "          A3       0.40      0.94      0.56        31\n",
            "          B1       0.64      0.93      0.76        30\n",
            "          B2       0.76      0.96      0.85        27\n",
            "          A1       0.55      0.75      0.64        28\n",
            "          A2       0.36      0.85      0.51        26\n",
            "\n",
            "   micro avg       0.56      0.91      0.70       210\n",
            "   macro avg       0.60      0.91      0.71       210\n",
            "weighted avg       0.61      0.91      0.72       210\n",
            " samples avg       0.66      0.91      0.74       210\n",
            "\n"
          ]
        },
        {
          "output_type": "display_data",
          "data": {
            "text/plain": [
              "<Figure size 1000x700 with 2 Axes>"
            ],
            "image/png": "[encoded data removed]"
          },
          "metadata": {}
        }
      ]
    },
    {
      "cell_type": "markdown",
      "source": [
        "<div style=\"border: 2px solid #FFD700; /* Blue border color */\n",
        "        background-color: #fffee0; /* Light-blue background color */\n",
        "        border-radius: 10px; /* Rounded corners */\n",
        "        padding: 10px; /* Padding for content inside the cell */\n",
        "        color= #000000;\">\n",
        "    <h1>💡 Evaluation Results</h1>\n",
        "    The off-diagonal values represent the number of incorrect predictions, where the model predicted one class but the actual label was different. These are also known as False Positives and False Negatives. The model seems to have a lower number of correct predictions for classes A3 and B3, indicating that it may be struggling to accurately predict these classes.\n",
        "</div>\n"
      ],
      "metadata": {
        "id": "cBj0xL8oopja"
      },
      "id": "cBj0xL8oopja"
    },
    {
      "cell_type": "markdown",
      "source": [
        "## Evaluation\n",
        "\n",
        "Label-wise comparison (all 7 labels) for precision, recall and F1-scores"
      ],
      "metadata": {
        "id": "VWChm0Uwbtvm"
      },
      "id": "VWChm0Uwbtvm"
    },
    {
      "cell_type": "code",
      "source": [
        "from sklearn.metrics import precision_recall_fscore_support"
      ],
      "metadata": {
        "id": "9f9PotEQroCw"
      },
      "id": "9f9PotEQroCw",
      "execution_count": 16,
      "outputs": []
    },
    {
      "cell_type": "markdown",
      "source": [
        "Calculating scores"
      ],
      "metadata": {
        "id": "0qFZgf0ovQe1"
      },
      "id": "0qFZgf0ovQe1"
    },
    {
      "cell_type": "code",
      "source": [
        "ensem_prec, ensem_rec, ensem_f1_, sup = precision_recall_fscore_support(y_true=y_val_ensem, y_pred=y_hat_ensem)\n",
        "multi_prec, multi_rec, multi_f1_, sup = precision_recall_fscore_support(y_true=y_val_multi, y_pred=y_hat_multi)\n",
        "bert_prec, bert_rec, bert_f1_, sup = precision_recall_fscore_support(y_true=y_val_bert, y_pred=y_hat_bert)"
      ],
      "metadata": {
        "id": "DetKWUbeb19w"
      },
      "id": "DetKWUbeb19w",
      "execution_count": 119,
      "outputs": []
    },
    {
      "cell_type": "markdown",
      "source": [
        "Plotting"
      ],
      "metadata": {
        "id": "7y-leuinvUc7"
      },
      "id": "7y-leuinvUc7"
    },
    {
      "cell_type": "code",
      "source": [
        "# Color scheme\n",
        "precision_color = '#E75480'\n",
        "recall_color = '#AF52DE'\n",
        "f1_color = '#8F3C98'\n",
        "\n",
        "# Assuming you have 3 models and 7 labels\n",
        "models = ['Ensemble', 'Multi Label', \"Bert\"]\n",
        "labels = class_to_index.keys()\n",
        "\n",
        "# Assuming these are your precision, recall and f1_score arrays for each model\n",
        "# Replace these with your actual data\n",
        "precision = np.stack([ensem_prec, multi_prec, bert_prec])\n",
        "recall = np.stack([ensem_rec, multi_rec, bert_rec])\n",
        "f1_score = np.stack([ensem_f1_, multi_f1_, bert_f1_])\n",
        "\n",
        "# Create subplots\n",
        "fig, axs = plt.subplots(3, figsize=(10, 15))\n",
        "\n",
        "# Set bar width\n",
        "bar_width = 0.2\n",
        "\n",
        "# Set position of bar on X axis\n",
        "r1 = np.arange(len(labels))\n",
        "r2 = [x + bar_width for x in r1]\n",
        "r3 = [x + bar_width for x in r2]\n",
        "\n",
        "for idx, ax in enumerate(axs):\n",
        "    # Make the plot\n",
        "    ax.bar(r1, precision[idx], color=precision_color, width=bar_width, edgecolor='grey', label='precision')\n",
        "    ax.bar(r2, recall[idx], color=recall_color, width=bar_width, edgecolor='grey', label='recall')\n",
        "    ax.bar(r3, f1_score[idx], color=f1_color, width=bar_width, edgecolor='grey', label='F1 score')\n",
        "\n",
        "    # Adding xticks\n",
        "    ax.set_xlabel('Labels', fontweight='bold', fontsize=15)\n",
        "    ax.set_ylabel('Scores', fontweight='bold', fontsize=15)\n",
        "    ax.set_title(models[idx])\n",
        "    ax.set_xticks([r + bar_width for r in range(len(labels))])\n",
        "    ax.set_xticklabels(labels)\n",
        "\n",
        "# Add a legend\n",
        "fig.legend()\n",
        "\n",
        "# Show the plot\n",
        "plt.tight_layout()\n",
        "plt.show()\n"
      ],
      "metadata": {
        "colab": {
          "base_uri": "https://localhost:8080/",
          "height": 1000
        },
        "id": "IB2lDSZdc1Dm",
        "outputId": "8bc76af8-5e19-496b-9066-2491a7a29aed"
      },
      "id": "IB2lDSZdc1Dm",
      "execution_count": 124,
      "outputs": [
        {
          "output_type": "display_data",
          "data": {
            "text/plain": [
              "<Figure size 1000x1500 with 3 Axes>"
            ],
            "image/png": "[encoded data removed]"
          },
          "metadata": {}
        }
      ]
    },
    {
      "cell_type": "markdown",
      "source": [
        "<div style=\"border: 2px solid #FFD700; /* Blue border color */\n",
        "        background-color: #fffee0; /* Light-blue background color */\n",
        "        border-radius: 10px; /* Rounded corners */\n",
        "        padding: 10px; /* Padding for content inside the cell */\n",
        "        color: #000000;\">\n",
        "    <h1>💡 Evaluation Results</h1>\n",
        "    <li> Ensemble performs poorly on labels B4, and A1.</li>\n",
        "    <li> Multiclass model outperforms the ensemble models B3, B4, etc.</li>\n",
        "    <li> BERT has the highest average F1 Score</li>\n",
        "</div>\n"
      ],
      "metadata": {
        "id": "5QodkAMKorBR"
      },
      "id": "5QodkAMKorBR"
    },
    {
      "cell_type": "markdown",
      "source": [
        "### Bibliography\n",
        "\n",
        "*   [multi-label-text-classification](https://towardsdatascience.com/building-a-multi-label-text-classifier-using-bert-and-tensorflow-f188e0ecdc5d)\n",
        "*   Stackoverflow was used in the process of debugging errors.\n",
        "\n"
      ],
      "metadata": {
        "id": "cuJPfveOpHCU"
      },
      "id": "cuJPfveOpHCU"
    },
    {
      "cell_type": "markdown",
      "source": [
        "Please reach out to visalakshiiyer@arizona.edu in case of any shortcomings with the notebook."
      ],
      "metadata": {
        "id": "8jETqGpYosV2"
      },
      "id": "8jETqGpYosV2"
    },
    {
      "cell_type": "code",
      "source": [],
      "metadata": {
        "id": "EYoJkrWr41dn"
      },
      "id": "EYoJkrWr41dn",
      "execution_count": null,
      "outputs": []
    }
  ],
  "metadata": {
    "kernelspec": {
      "display_name": "Python 3",
      "name": "python3"
    },
    "language_info": {
      "codemirror_mode": {
        "name": "ipython",
        "version": 3
      },
      "file_extension": ".py",
      "mimetype": "text/x-python",
      "name": "python",
      "nbconvert_exporter": "python",
      "pygments_lexer": "ipython3",
      "version": "3.7.6"
    },
    "colab": {
      "provenance": [],
      "gpuType": "T4"
    },
    "accelerator": "GPU",
    "widgets": {
      "application/vnd.jupyter.widget-state+json": {
        "e6713e09b84f49bf9f9bfda3735595c4": {
          "model_module": "@jupyter-widgets/controls",
          "model_name": "HBoxModel",
          "model_module_version": "1.5.0",
          "state": {
            "_dom_classes": [],
            "_model_module": "@jupyter-widgets/controls",
            "_model_module_version": "1.5.0",
            "_model_name": "HBoxModel",
            "_view_count": null,
            "_view_module": "@jupyter-widgets/controls",
            "_view_module_version": "1.5.0",
            "_view_name": "HBoxView",
            "box_style": "",
            "children": [
              "IPY_MODEL_d9bbb04c71164a6780d62784ea0044dd",
              "IPY_MODEL_ed9dc7ffbd0e486391c9345523c9ed3d",
              "IPY_MODEL_d60923f06f9046c283b8b703cbfa142a"
            ],
            "layout": "IPY_MODEL_6ed6c7c262244231a28050b23e2da9b0"
          }
        },
        "d9bbb04c71164a6780d62784ea0044dd": {
          "model_module": "@jupyter-widgets/controls",
          "model_name": "HTMLModel",
          "model_module_version": "1.5.0",
          "state": {
            "_dom_classes": [],
            "_model_module": "@jupyter-widgets/controls",
            "_model_module_version": "1.5.0",
            "_model_name": "HTMLModel",
            "_view_count": null,
            "_view_module": "@jupyter-widgets/controls",
            "_view_module_version": "1.5.0",
            "_view_name": "HTMLView",
            "description": "",
            "description_tooltip": null,
            "layout": "IPY_MODEL_42d536f5d7c14ec9826c5c2a8f50086e",
            "placeholder": "​",
            "style": "IPY_MODEL_b984af337f264f6d9bcade280685ce5b",
            "value": "Downloading (…)okenizer_config.json: 100%"
          }
        },
        "ed9dc7ffbd0e486391c9345523c9ed3d": {
          "model_module": "@jupyter-widgets/controls",
          "model_name": "FloatProgressModel",
          "model_module_version": "1.5.0",
          "state": {
            "_dom_classes": [],
            "_model_module": "@jupyter-widgets/controls",
            "_model_module_version": "1.5.0",
            "_model_name": "FloatProgressModel",
            "_view_count": null,
            "_view_module": "@jupyter-widgets/controls",
            "_view_module_version": "1.5.0",
            "_view_name": "ProgressView",
            "bar_style": "success",
            "description": "",
            "description_tooltip": null,
            "layout": "IPY_MODEL_0ae9568334fd48dc85d8e6c26089bb87",
            "max": 28,
            "min": 0,
            "orientation": "horizontal",
            "style": "IPY_MODEL_84dee44b0df64ed996f1a016df8b4eea",
            "value": 28
          }
        },
        "d60923f06f9046c283b8b703cbfa142a": {
          "model_module": "@jupyter-widgets/controls",
          "model_name": "HTMLModel",
          "model_module_version": "1.5.0",
          "state": {
            "_dom_classes": [],
            "_model_module": "@jupyter-widgets/controls",
            "_model_module_version": "1.5.0",
            "_model_name": "HTMLModel",
            "_view_count": null,
            "_view_module": "@jupyter-widgets/controls",
            "_view_module_version": "1.5.0",
            "_view_name": "HTMLView",
            "description": "",
            "description_tooltip": null,
            "layout": "IPY_MODEL_f3173d12e10c4d90bdc6a0af42d4d1ed",
            "placeholder": "​",
            "style": "IPY_MODEL_ffb2b5974c1f44aba24c01f4ba42e7ae",
            "value": " 28.0/28.0 [00:00&lt;00:00, 499B/s]"
          }
        },
        "6ed6c7c262244231a28050b23e2da9b0": {
          "model_module": "@jupyter-widgets/base",
          "model_name": "LayoutModel",
          "model_module_version": "1.2.0",
          "state": {
            "_model_module": "@jupyter-widgets/base",
            "_model_module_version": "1.2.0",
            "_model_name": "LayoutModel",
            "_view_count": null,
            "_view_module": "@jupyter-widgets/base",
            "_view_module_version": "1.2.0",
            "_view_name": "LayoutView",
            "align_content": null,
            "align_items": null,
            "align_self": null,
            "border": null,
            "bottom": null,
            "display": null,
            "flex": null,
            "flex_flow": null,
            "grid_area": null,
            "grid_auto_columns": null,
            "grid_auto_flow": null,
            "grid_auto_rows": null,
            "grid_column": null,
            "grid_gap": null,
            "grid_row": null,
            "grid_template_areas": null,
            "grid_template_columns": null,
            "grid_template_rows": null,
            "height": null,
            "justify_content": null,
            "justify_items": null,
            "left": null,
            "margin": null,
            "max_height": null,
            "max_width": null,
            "min_height": null,
            "min_width": null,
            "object_fit": null,
            "object_position": null,
            "order": null,
            "overflow": null,
            "overflow_x": null,
            "overflow_y": null,
            "padding": null,
            "right": null,
            "top": null,
            "visibility": null,
            "width": null
          }
        },
        "42d536f5d7c14ec9826c5c2a8f50086e": {
          "model_module": "@jupyter-widgets/base",
          "model_name": "LayoutModel",
          "model_module_version": "1.2.0",
          "state": {
            "_model_module": "@jupyter-widgets/base",
            "_model_module_version": "1.2.0",
            "_model_name": "LayoutModel",
            "_view_count": null,
            "_view_module": "@jupyter-widgets/base",
            "_view_module_version": "1.2.0",
            "_view_name": "LayoutView",
            "align_content": null,
            "align_items": null,
            "align_self": null,
            "border": null,
            "bottom": null,
            "display": null,
            "flex": null,
            "flex_flow": null,
            "grid_area": null,
            "grid_auto_columns": null,
            "grid_auto_flow": null,
            "grid_auto_rows": null,
            "grid_column": null,
            "grid_gap": null,
            "grid_row": null,
            "grid_template_areas": null,
            "grid_template_columns": null,
            "grid_template_rows": null,
            "height": null,
            "justify_content": null,
            "justify_items": null,
            "left": null,
            "margin": null,
            "max_height": null,
            "max_width": null,
            "min_height": null,
            "min_width": null,
            "object_fit": null,
            "object_position": null,
            "order": null,
            "overflow": null,
            "overflow_x": null,
            "overflow_y": null,
            "padding": null,
            "right": null,
            "top": null,
            "visibility": null,
            "width": null
          }
        },
        "b984af337f264f6d9bcade280685ce5b": {
          "model_module": "@jupyter-widgets/controls",
          "model_name": "DescriptionStyleModel",
          "model_module_version": "1.5.0",
          "state": {
            "_model_module": "@jupyter-widgets/controls",
            "_model_module_version": "1.5.0",
            "_model_name": "DescriptionStyleModel",
            "_view_count": null,
            "_view_module": "@jupyter-widgets/base",
            "_view_module_version": "1.2.0",
            "_view_name": "StyleView",
            "description_width": ""
          }
        },
        "0ae9568334fd48dc85d8e6c26089bb87": {
          "model_module": "@jupyter-widgets/base",
          "model_name": "LayoutModel",
          "model_module_version": "1.2.0",
          "state": {
            "_model_module": "@jupyter-widgets/base",
            "_model_module_version": "1.2.0",
            "_model_name": "LayoutModel",
            "_view_count": null,
            "_view_module": "@jupyter-widgets/base",
            "_view_module_version": "1.2.0",
            "_view_name": "LayoutView",
            "align_content": null,
            "align_items": null,
            "align_self": null,
            "border": null,
            "bottom": null,
            "display": null,
            "flex": null,
            "flex_flow": null,
            "grid_area": null,
            "grid_auto_columns": null,
            "grid_auto_flow": null,
            "grid_auto_rows": null,
            "grid_column": null,
            "grid_gap": null,
            "grid_row": null,
            "grid_template_areas": null,
            "grid_template_columns": null,
            "grid_template_rows": null,
            "height": null,
            "justify_content": null,
            "justify_items": null,
            "left": null,
            "margin": null,
            "max_height": null,
            "max_width": null,
            "min_height": null,
            "min_width": null,
            "object_fit": null,
            "object_position": null,
            "order": null,
            "overflow": null,
            "overflow_x": null,
            "overflow_y": null,
            "padding": null,
            "right": null,
            "top": null,
            "visibility": null,
            "width": null
          }
        },
        "84dee44b0df64ed996f1a016df8b4eea": {
          "model_module": "@jupyter-widgets/controls",
          "model_name": "ProgressStyleModel",
          "model_module_version": "1.5.0",
          "state": {
            "_model_module": "@jupyter-widgets/controls",
            "_model_module_version": "1.5.0",
            "_model_name": "ProgressStyleModel",
            "_view_count": null,
            "_view_module": "@jupyter-widgets/base",
            "_view_module_version": "1.2.0",
            "_view_name": "StyleView",
            "bar_color": null,
            "description_width": ""
          }
        },
        "f3173d12e10c4d90bdc6a0af42d4d1ed": {
          "model_module": "@jupyter-widgets/base",
          "model_name": "LayoutModel",
          "model_module_version": "1.2.0",
          "state": {
            "_model_module": "@jupyter-widgets/base",
            "_model_module_version": "1.2.0",
            "_model_name": "LayoutModel",
            "_view_count": null,
            "_view_module": "@jupyter-widgets/base",
            "_view_module_version": "1.2.0",
            "_view_name": "LayoutView",
            "align_content": null,
            "align_items": null,
            "align_self": null,
            "border": null,
            "bottom": null,
            "display": null,
            "flex": null,
            "flex_flow": null,
            "grid_area": null,
            "grid_auto_columns": null,
            "grid_auto_flow": null,
            "grid_auto_rows": null,
            "grid_column": null,
            "grid_gap": null,
            "grid_row": null,
            "grid_template_areas": null,
            "grid_template_columns": null,
            "grid_template_rows": null,
            "height": null,
            "justify_content": null,
            "justify_items": null,
            "left": null,
            "margin": null,
            "max_height": null,
            "max_width": null,
            "min_height": null,
            "min_width": null,
            "object_fit": null,
            "object_position": null,
            "order": null,
            "overflow": null,
            "overflow_x": null,
            "overflow_y": null,
            "padding": null,
            "right": null,
            "top": null,
            "visibility": null,
            "width": null
          }
        },
        "ffb2b5974c1f44aba24c01f4ba42e7ae": {
          "model_module": "@jupyter-widgets/controls",
          "model_name": "DescriptionStyleModel",
          "model_module_version": "1.5.0",
          "state": {
            "_model_module": "@jupyter-widgets/controls",
            "_model_module_version": "1.5.0",
            "_model_name": "DescriptionStyleModel",
            "_view_count": null,
            "_view_module": "@jupyter-widgets/base",
            "_view_module_version": "1.2.0",
            "_view_name": "StyleView",
            "description_width": ""
          }
        },
        "9290afcdb5e242e4859b7c30a6f2a452": {
          "model_module": "@jupyter-widgets/controls",
          "model_name": "HBoxModel",
          "model_module_version": "1.5.0",
          "state": {
            "_dom_classes": [],
            "_model_module": "@jupyter-widgets/controls",
            "_model_module_version": "1.5.0",
            "_model_name": "HBoxModel",
            "_view_count": null,
            "_view_module": "@jupyter-widgets/controls",
            "_view_module_version": "1.5.0",
            "_view_name": "HBoxView",
            "box_style": "",
            "children": [
              "IPY_MODEL_90375a98badf4729a248442fbfb861b9",
              "IPY_MODEL_43d4ceda0e20406287826cc449520021",
              "IPY_MODEL_a8b00ac783014b82ad26f563d0e6ecfb"
            ],
            "layout": "IPY_MODEL_f0438e8849654f00a1fe066150505725"
          }
        },
        "90375a98badf4729a248442fbfb861b9": {
          "model_module": "@jupyter-widgets/controls",
          "model_name": "HTMLModel",
          "model_module_version": "1.5.0",
          "state": {
            "_dom_classes": [],
            "_model_module": "@jupyter-widgets/controls",
            "_model_module_version": "1.5.0",
            "_model_name": "HTMLModel",
            "_view_count": null,
            "_view_module": "@jupyter-widgets/controls",
            "_view_module_version": "1.5.0",
            "_view_name": "HTMLView",
            "description": "",
            "description_tooltip": null,
            "layout": "IPY_MODEL_f079bbcf1c754b48a4f0453ecfa69cde",
            "placeholder": "​",
            "style": "IPY_MODEL_421b204bdcc2411d80a89535f77f4fed",
            "value": "Downloading (…)solve/main/vocab.txt: 100%"
          }
        },
        "43d4ceda0e20406287826cc449520021": {
          "model_module": "@jupyter-widgets/controls",
          "model_name": "FloatProgressModel",
          "model_module_version": "1.5.0",
          "state": {
            "_dom_classes": [],
            "_model_module": "@jupyter-widgets/controls",
            "_model_module_version": "1.5.0",
            "_model_name": "FloatProgressModel",
            "_view_count": null,
            "_view_module": "@jupyter-widgets/controls",
            "_view_module_version": "1.5.0",
            "_view_name": "ProgressView",
            "bar_style": "success",
            "description": "",
            "description_tooltip": null,
            "layout": "IPY_MODEL_0f1f8708786c417cb4d279c505c159ca",
            "max": 231508,
            "min": 0,
            "orientation": "horizontal",
            "style": "IPY_MODEL_cb2accde54bb4bd8a9a494644747743d",
            "value": 231508
          }
        },
        "a8b00ac783014b82ad26f563d0e6ecfb": {
          "model_module": "@jupyter-widgets/controls",
          "model_name": "HTMLModel",
          "model_module_version": "1.5.0",
          "state": {
            "_dom_classes": [],
            "_model_module": "@jupyter-widgets/controls",
            "_model_module_version": "1.5.0",
            "_model_name": "HTMLModel",
            "_view_count": null,
            "_view_module": "@jupyter-widgets/controls",
            "_view_module_version": "1.5.0",
            "_view_name": "HTMLView",
            "description": "",
            "description_tooltip": null,
            "layout": "IPY_MODEL_21d430c0dd664f09be1f51c3151d4114",
            "placeholder": "​",
            "style": "IPY_MODEL_065b0c7790274b56b534ee4bf1e0ecf6",
            "value": " 232k/232k [00:00&lt;00:00, 2.14MB/s]"
          }
        },
        "f0438e8849654f00a1fe066150505725": {
          "model_module": "@jupyter-widgets/base",
          "model_name": "LayoutModel",
          "model_module_version": "1.2.0",
          "state": {
            "_model_module": "@jupyter-widgets/base",
            "_model_module_version": "1.2.0",
            "_model_name": "LayoutModel",
            "_view_count": null,
            "_view_module": "@jupyter-widgets/base",
            "_view_module_version": "1.2.0",
            "_view_name": "LayoutView",
            "align_content": null,
            "align_items": null,
            "align_self": null,
            "border": null,
            "bottom": null,
            "display": null,
            "flex": null,
            "flex_flow": null,
            "grid_area": null,
            "grid_auto_columns": null,
            "grid_auto_flow": null,
            "grid_auto_rows": null,
            "grid_column": null,
            "grid_gap": null,
            "grid_row": null,
            "grid_template_areas": null,
            "grid_template_columns": null,
            "grid_template_rows": null,
            "height": null,
            "justify_content": null,
            "justify_items": null,
            "left": null,
            "margin": null,
            "max_height": null,
            "max_width": null,
            "min_height": null,
            "min_width": null,
            "object_fit": null,
            "object_position": null,
            "order": null,
            "overflow": null,
            "overflow_x": null,
            "overflow_y": null,
            "padding": null,
            "right": null,
            "top": null,
            "visibility": null,
            "width": null
          }
        },
        "f079bbcf1c754b48a4f0453ecfa69cde": {
          "model_module": "@jupyter-widgets/base",
          "model_name": "LayoutModel",
          "model_module_version": "1.2.0",
          "state": {
            "_model_module": "@jupyter-widgets/base",
            "_model_module_version": "1.2.0",
            "_model_name": "LayoutModel",
            "_view_count": null,
            "_view_module": "@jupyter-widgets/base",
            "_view_module_version": "1.2.0",
            "_view_name": "LayoutView",
            "align_content": null,
            "align_items": null,
            "align_self": null,
            "border": null,
            "bottom": null,
            "display": null,
            "flex": null,
            "flex_flow": null,
            "grid_area": null,
            "grid_auto_columns": null,
            "grid_auto_flow": null,
            "grid_auto_rows": null,
            "grid_column": null,
            "grid_gap": null,
            "grid_row": null,
            "grid_template_areas": null,
            "grid_template_columns": null,
            "grid_template_rows": null,
            "height": null,
            "justify_content": null,
            "justify_items": null,
            "left": null,
            "margin": null,
            "max_height": null,
            "max_width": null,
            "min_height": null,
            "min_width": null,
            "object_fit": null,
            "object_position": null,
            "order": null,
            "overflow": null,
            "overflow_x": null,
            "overflow_y": null,
            "padding": null,
            "right": null,
            "top": null,
            "visibility": null,
            "width": null
          }
        },
        "421b204bdcc2411d80a89535f77f4fed": {
          "model_module": "@jupyter-widgets/controls",
          "model_name": "DescriptionStyleModel",
          "model_module_version": "1.5.0",
          "state": {
            "_model_module": "@jupyter-widgets/controls",
            "_model_module_version": "1.5.0",
            "_model_name": "DescriptionStyleModel",
            "_view_count": null,
            "_view_module": "@jupyter-widgets/base",
            "_view_module_version": "1.2.0",
            "_view_name": "StyleView",
            "description_width": ""
          }
        },
        "0f1f8708786c417cb4d279c505c159ca": {
          "model_module": "@jupyter-widgets/base",
          "model_name": "LayoutModel",
          "model_module_version": "1.2.0",
          "state": {
            "_model_module": "@jupyter-widgets/base",
            "_model_module_version": "1.2.0",
            "_model_name": "LayoutModel",
            "_view_count": null,
            "_view_module": "@jupyter-widgets/base",
            "_view_module_version": "1.2.0",
            "_view_name": "LayoutView",
            "align_content": null,
            "align_items": null,
            "align_self": null,
            "border": null,
            "bottom": null,
            "display": null,
            "flex": null,
            "flex_flow": null,
            "grid_area": null,
            "grid_auto_columns": null,
            "grid_auto_flow": null,
            "grid_auto_rows": null,
            "grid_column": null,
            "grid_gap": null,
            "grid_row": null,
            "grid_template_areas": null,
            "grid_template_columns": null,
            "grid_template_rows": null,
            "height": null,
            "justify_content": null,
            "justify_items": null,
            "left": null,
            "margin": null,
            "max_height": null,
            "max_width": null,
            "min_height": null,
            "min_width": null,
            "object_fit": null,
            "object_position": null,
            "order": null,
            "overflow": null,
            "overflow_x": null,
            "overflow_y": null,
            "padding": null,
            "right": null,
            "top": null,
            "visibility": null,
            "width": null
          }
        },
        "cb2accde54bb4bd8a9a494644747743d": {
          "model_module": "@jupyter-widgets/controls",
          "model_name": "ProgressStyleModel",
          "model_module_version": "1.5.0",
          "state": {
            "_model_module": "@jupyter-widgets/controls",
            "_model_module_version": "1.5.0",
            "_model_name": "ProgressStyleModel",
            "_view_count": null,
            "_view_module": "@jupyter-widgets/base",
            "_view_module_version": "1.2.0",
            "_view_name": "StyleView",
            "bar_color": null,
            "description_width": ""
          }
        },
        "21d430c0dd664f09be1f51c3151d4114": {
          "model_module": "@jupyter-widgets/base",
          "model_name": "LayoutModel",
          "model_module_version": "1.2.0",
          "state": {
            "_model_module": "@jupyter-widgets/base",
            "_model_module_version": "1.2.0",
            "_model_name": "LayoutModel",
            "_view_count": null,
            "_view_module": "@jupyter-widgets/base",
            "_view_module_version": "1.2.0",
            "_view_name": "LayoutView",
            "align_content": null,
            "align_items": null,
            "align_self": null,
            "border": null,
            "bottom": null,
            "display": null,
            "flex": null,
            "flex_flow": null,
            "grid_area": null,
            "grid_auto_columns": null,
            "grid_auto_flow": null,
            "grid_auto_rows": null,
            "grid_column": null,
            "grid_gap": null,
            "grid_row": null,
            "grid_template_areas": null,
            "grid_template_columns": null,
            "grid_template_rows": null,
            "height": null,
            "justify_content": null,
            "justify_items": null,
            "left": null,
            "margin": null,
            "max_height": null,
            "max_width": null,
            "min_height": null,
            "min_width": null,
            "object_fit": null,
            "object_position": null,
            "order": null,
            "overflow": null,
            "overflow_x": null,
            "overflow_y": null,
            "padding": null,
            "right": null,
            "top": null,
            "visibility": null,
            "width": null
          }
        },
        "065b0c7790274b56b534ee4bf1e0ecf6": {
          "model_module": "@jupyter-widgets/controls",
          "model_name": "DescriptionStyleModel",
          "model_module_version": "1.5.0",
          "state": {
            "_model_module": "@jupyter-widgets/controls",
            "_model_module_version": "1.5.0",
            "_model_name": "DescriptionStyleModel",
            "_view_count": null,
            "_view_module": "@jupyter-widgets/base",
            "_view_module_version": "1.2.0",
            "_view_name": "StyleView",
            "description_width": ""
          }
        },
        "32e63c8e96ab4497923191747b5fe7c2": {
          "model_module": "@jupyter-widgets/controls",
          "model_name": "HBoxModel",
          "model_module_version": "1.5.0",
          "state": {
            "_dom_classes": [],
            "_model_module": "@jupyter-widgets/controls",
            "_model_module_version": "1.5.0",
            "_model_name": "HBoxModel",
            "_view_count": null,
            "_view_module": "@jupyter-widgets/controls",
            "_view_module_version": "1.5.0",
            "_view_name": "HBoxView",
            "box_style": "",
            "children": [
              "IPY_MODEL_87645fd537a0498484809a3357669c91",
              "IPY_MODEL_6cb726fb97174b15ae23443c96ad4814",
              "IPY_MODEL_1582d80250d34a769e7442240fdc6e47"
            ],
            "layout": "IPY_MODEL_009dbb94f43b4ff08950fc78be2a3da6"
          }
        },
        "87645fd537a0498484809a3357669c91": {
          "model_module": "@jupyter-widgets/controls",
          "model_name": "HTMLModel",
          "model_module_version": "1.5.0",
          "state": {
            "_dom_classes": [],
            "_model_module": "@jupyter-widgets/controls",
            "_model_module_version": "1.5.0",
            "_model_name": "HTMLModel",
            "_view_count": null,
            "_view_module": "@jupyter-widgets/controls",
            "_view_module_version": "1.5.0",
            "_view_name": "HTMLView",
            "description": "",
            "description_tooltip": null,
            "layout": "IPY_MODEL_1287124d7dfb4c86aca8409f40edb60b",
            "placeholder": "​",
            "style": "IPY_MODEL_07fabfc67acd406ba03c26e0f64433bf",
            "value": "Downloading (…)/main/tokenizer.json: 100%"
          }
        },
        "6cb726fb97174b15ae23443c96ad4814": {
          "model_module": "@jupyter-widgets/controls",
          "model_name": "FloatProgressModel",
          "model_module_version": "1.5.0",
          "state": {
            "_dom_classes": [],
            "_model_module": "@jupyter-widgets/controls",
            "_model_module_version": "1.5.0",
            "_model_name": "FloatProgressModel",
            "_view_count": null,
            "_view_module": "@jupyter-widgets/controls",
            "_view_module_version": "1.5.0",
            "_view_name": "ProgressView",
            "bar_style": "success",
            "description": "",
            "description_tooltip": null,
            "layout": "IPY_MODEL_b0b37ae81376486aa70a6bdfd83abf6f",
            "max": 466062,
            "min": 0,
            "orientation": "horizontal",
            "style": "IPY_MODEL_cb81aba2ee3043a1ba2f6c27bc94ae7d",
            "value": 466062
          }
        },
        "1582d80250d34a769e7442240fdc6e47": {
          "model_module": "@jupyter-widgets/controls",
          "model_name": "HTMLModel",
          "model_module_version": "1.5.0",
          "state": {
            "_dom_classes": [],
            "_model_module": "@jupyter-widgets/controls",
            "_model_module_version": "1.5.0",
            "_model_name": "HTMLModel",
            "_view_count": null,
            "_view_module": "@jupyter-widgets/controls",
            "_view_module_version": "1.5.0",
            "_view_name": "HTMLView",
            "description": "",
            "description_tooltip": null,
            "layout": "IPY_MODEL_fa5e9db0012b4316bf1fb5ed875cd830",
            "placeholder": "​",
            "style": "IPY_MODEL_2aa2c2b11e3742b4a4123e05ad31e833",
            "value": " 466k/466k [00:00&lt;00:00, 5.55MB/s]"
          }
        },
        "009dbb94f43b4ff08950fc78be2a3da6": {
          "model_module": "@jupyter-widgets/base",
          "model_name": "LayoutModel",
          "model_module_version": "1.2.0",
          "state": {
            "_model_module": "@jupyter-widgets/base",
            "_model_module_version": "1.2.0",
            "_model_name": "LayoutModel",
            "_view_count": null,
            "_view_module": "@jupyter-widgets/base",
            "_view_module_version": "1.2.0",
            "_view_name": "LayoutView",
            "align_content": null,
            "align_items": null,
            "align_self": null,
            "border": null,
            "bottom": null,
            "display": null,
            "flex": null,
            "flex_flow": null,
            "grid_area": null,
            "grid_auto_columns": null,
            "grid_auto_flow": null,
            "grid_auto_rows": null,
            "grid_column": null,
            "grid_gap": null,
            "grid_row": null,
            "grid_template_areas": null,
            "grid_template_columns": null,
            "grid_template_rows": null,
            "height": null,
            "justify_content": null,
            "justify_items": null,
            "left": null,
            "margin": null,
            "max_height": null,
            "max_width": null,
            "min_height": null,
            "min_width": null,
            "object_fit": null,
            "object_position": null,
            "order": null,
            "overflow": null,
            "overflow_x": null,
            "overflow_y": null,
            "padding": null,
            "right": null,
            "top": null,
            "visibility": null,
            "width": null
          }
        },
        "1287124d7dfb4c86aca8409f40edb60b": {
          "model_module": "@jupyter-widgets/base",
          "model_name": "LayoutModel",
          "model_module_version": "1.2.0",
          "state": {
            "_model_module": "@jupyter-widgets/base",
            "_model_module_version": "1.2.0",
            "_model_name": "LayoutModel",
            "_view_count": null,
            "_view_module": "@jupyter-widgets/base",
            "_view_module_version": "1.2.0",
            "_view_name": "LayoutView",
            "align_content": null,
            "align_items": null,
            "align_self": null,
            "border": null,
            "bottom": null,
            "display": null,
            "flex": null,
            "flex_flow": null,
            "grid_area": null,
            "grid_auto_columns": null,
            "grid_auto_flow": null,
            "grid_auto_rows": null,
            "grid_column": null,
            "grid_gap": null,
            "grid_row": null,
            "grid_template_areas": null,
            "grid_template_columns": null,
            "grid_template_rows": null,
            "height": null,
            "justify_content": null,
            "justify_items": null,
            "left": null,
            "margin": null,
            "max_height": null,
            "max_width": null,
            "min_height": null,
            "min_width": null,
            "object_fit": null,
            "object_position": null,
            "order": null,
            "overflow": null,
            "overflow_x": null,
            "overflow_y": null,
            "padding": null,
            "right": null,
            "top": null,
            "visibility": null,
            "width": null
          }
        },
        "07fabfc67acd406ba03c26e0f64433bf": {
          "model_module": "@jupyter-widgets/controls",
          "model_name": "DescriptionStyleModel",
          "model_module_version": "1.5.0",
          "state": {
            "_model_module": "@jupyter-widgets/controls",
            "_model_module_version": "1.5.0",
            "_model_name": "DescriptionStyleModel",
            "_view_count": null,
            "_view_module": "@jupyter-widgets/base",
            "_view_module_version": "1.2.0",
            "_view_name": "StyleView",
            "description_width": ""
          }
        },
        "b0b37ae81376486aa70a6bdfd83abf6f": {
          "model_module": "@jupyter-widgets/base",
          "model_name": "LayoutModel",
          "model_module_version": "1.2.0",
          "state": {
            "_model_module": "@jupyter-widgets/base",
            "_model_module_version": "1.2.0",
            "_model_name": "LayoutModel",
            "_view_count": null,
            "_view_module": "@jupyter-widgets/base",
            "_view_module_version": "1.2.0",
            "_view_name": "LayoutView",
            "align_content": null,
            "align_items": null,
            "align_self": null,
            "border": null,
            "bottom": null,
            "display": null,
            "flex": null,
            "flex_flow": null,
            "grid_area": null,
            "grid_auto_columns": null,
            "grid_auto_flow": null,
            "grid_auto_rows": null,
            "grid_column": null,
            "grid_gap": null,
            "grid_row": null,
            "grid_template_areas": null,
            "grid_template_columns": null,
            "grid_template_rows": null,
            "height": null,
            "justify_content": null,
            "justify_items": null,
            "left": null,
            "margin": null,
            "max_height": null,
            "max_width": null,
            "min_height": null,
            "min_width": null,
            "object_fit": null,
            "object_position": null,
            "order": null,
            "overflow": null,
            "overflow_x": null,
            "overflow_y": null,
            "padding": null,
            "right": null,
            "top": null,
            "visibility": null,
            "width": null
          }
        },
        "cb81aba2ee3043a1ba2f6c27bc94ae7d": {
          "model_module": "@jupyter-widgets/controls",
          "model_name": "ProgressStyleModel",
          "model_module_version": "1.5.0",
          "state": {
            "_model_module": "@jupyter-widgets/controls",
            "_model_module_version": "1.5.0",
            "_model_name": "ProgressStyleModel",
            "_view_count": null,
            "_view_module": "@jupyter-widgets/base",
            "_view_module_version": "1.2.0",
            "_view_name": "StyleView",
            "bar_color": null,
            "description_width": ""
          }
        },
        "fa5e9db0012b4316bf1fb5ed875cd830": {
          "model_module": "@jupyter-widgets/base",
          "model_name": "LayoutModel",
          "model_module_version": "1.2.0",
          "state": {
            "_model_module": "@jupyter-widgets/base",
            "_model_module_version": "1.2.0",
            "_model_name": "LayoutModel",
            "_view_count": null,
            "_view_module": "@jupyter-widgets/base",
            "_view_module_version": "1.2.0",
            "_view_name": "LayoutView",
            "align_content": null,
            "align_items": null,
            "align_self": null,
            "border": null,
            "bottom": null,
            "display": null,
            "flex": null,
            "flex_flow": null,
            "grid_area": null,
            "grid_auto_columns": null,
            "grid_auto_flow": null,
            "grid_auto_rows": null,
            "grid_column": null,
            "grid_gap": null,
            "grid_row": null,
            "grid_template_areas": null,
            "grid_template_columns": null,
            "grid_template_rows": null,
            "height": null,
            "justify_content": null,
            "justify_items": null,
            "left": null,
            "margin": null,
            "max_height": null,
            "max_width": null,
            "min_height": null,
            "min_width": null,
            "object_fit": null,
            "object_position": null,
            "order": null,
            "overflow": null,
            "overflow_x": null,
            "overflow_y": null,
            "padding": null,
            "right": null,
            "top": null,
            "visibility": null,
            "width": null
          }
        },
        "2aa2c2b11e3742b4a4123e05ad31e833": {
          "model_module": "@jupyter-widgets/controls",
          "model_name": "DescriptionStyleModel",
          "model_module_version": "1.5.0",
          "state": {
            "_model_module": "@jupyter-widgets/controls",
            "_model_module_version": "1.5.0",
            "_model_name": "DescriptionStyleModel",
            "_view_count": null,
            "_view_module": "@jupyter-widgets/base",
            "_view_module_version": "1.2.0",
            "_view_name": "StyleView",
            "description_width": ""
          }
        },
        "83c8411968104795bc9a3fef70860e4e": {
          "model_module": "@jupyter-widgets/controls",
          "model_name": "HBoxModel",
          "model_module_version": "1.5.0",
          "state": {
            "_dom_classes": [],
            "_model_module": "@jupyter-widgets/controls",
            "_model_module_version": "1.5.0",
            "_model_name": "HBoxModel",
            "_view_count": null,
            "_view_module": "@jupyter-widgets/controls",
            "_view_module_version": "1.5.0",
            "_view_name": "HBoxView",
            "box_style": "",
            "children": [
              "IPY_MODEL_6240d69626b24f22990d205e08d8cdae",
              "IPY_MODEL_819d7b55daea4b1291e75aa4ced49f60",
              "IPY_MODEL_2c2e8aae87004489ab7074e3cc84f6f6"
            ],
            "layout": "IPY_MODEL_218d9d33e2794d2c95177b2080456f2c"
          }
        },
        "6240d69626b24f22990d205e08d8cdae": {
          "model_module": "@jupyter-widgets/controls",
          "model_name": "HTMLModel",
          "model_module_version": "1.5.0",
          "state": {
            "_dom_classes": [],
            "_model_module": "@jupyter-widgets/controls",
            "_model_module_version": "1.5.0",
            "_model_name": "HTMLModel",
            "_view_count": null,
            "_view_module": "@jupyter-widgets/controls",
            "_view_module_version": "1.5.0",
            "_view_name": "HTMLView",
            "description": "",
            "description_tooltip": null,
            "layout": "IPY_MODEL_119f66da54a04652b7764faa28769ec2",
            "placeholder": "​",
            "style": "IPY_MODEL_2a8b1b9a262d499e81d88acaa883766f",
            "value": "Downloading (…)lve/main/config.json: 100%"
          }
        },
        "819d7b55daea4b1291e75aa4ced49f60": {
          "model_module": "@jupyter-widgets/controls",
          "model_name": "FloatProgressModel",
          "model_module_version": "1.5.0",
          "state": {
            "_dom_classes": [],
            "_model_module": "@jupyter-widgets/controls",
            "_model_module_version": "1.5.0",
            "_model_name": "FloatProgressModel",
            "_view_count": null,
            "_view_module": "@jupyter-widgets/controls",
            "_view_module_version": "1.5.0",
            "_view_name": "ProgressView",
            "bar_style": "success",
            "description": "",
            "description_tooltip": null,
            "layout": "IPY_MODEL_71c5967b6c1146b7b7b9646a5a38cab7",
            "max": 570,
            "min": 0,
            "orientation": "horizontal",
            "style": "IPY_MODEL_75c7eb4ea7be4bd4a78d564c3c442a2d",
            "value": 570
          }
        },
        "2c2e8aae87004489ab7074e3cc84f6f6": {
          "model_module": "@jupyter-widgets/controls",
          "model_name": "HTMLModel",
          "model_module_version": "1.5.0",
          "state": {
            "_dom_classes": [],
            "_model_module": "@jupyter-widgets/controls",
            "_model_module_version": "1.5.0",
            "_model_name": "HTMLModel",
            "_view_count": null,
            "_view_module": "@jupyter-widgets/controls",
            "_view_module_version": "1.5.0",
            "_view_name": "HTMLView",
            "description": "",
            "description_tooltip": null,
            "layout": "IPY_MODEL_d595903361524c8eae7ff73942c1b47f",
            "placeholder": "​",
            "style": "IPY_MODEL_fa8e9a5ba10c4158b945b636988301e3",
            "value": " 570/570 [00:00&lt;00:00, 14.9kB/s]"
          }
        },
        "218d9d33e2794d2c95177b2080456f2c": {
          "model_module": "@jupyter-widgets/base",
          "model_name": "LayoutModel",
          "model_module_version": "1.2.0",
          "state": {
            "_model_module": "@jupyter-widgets/base",
            "_model_module_version": "1.2.0",
            "_model_name": "LayoutModel",
            "_view_count": null,
            "_view_module": "@jupyter-widgets/base",
            "_view_module_version": "1.2.0",
            "_view_name": "LayoutView",
            "align_content": null,
            "align_items": null,
            "align_self": null,
            "border": null,
            "bottom": null,
            "display": null,
            "flex": null,
            "flex_flow": null,
            "grid_area": null,
            "grid_auto_columns": null,
            "grid_auto_flow": null,
            "grid_auto_rows": null,
            "grid_column": null,
            "grid_gap": null,
            "grid_row": null,
            "grid_template_areas": null,
            "grid_template_columns": null,
            "grid_template_rows": null,
            "height": null,
            "justify_content": null,
            "justify_items": null,
            "left": null,
            "margin": null,
            "max_height": null,
            "max_width": null,
            "min_height": null,
            "min_width": null,
            "object_fit": null,
            "object_position": null,
            "order": null,
            "overflow": null,
            "overflow_x": null,
            "overflow_y": null,
            "padding": null,
            "right": null,
            "top": null,
            "visibility": null,
            "width": null
          }
        },
        "119f66da54a04652b7764faa28769ec2": {
          "model_module": "@jupyter-widgets/base",
          "model_name": "LayoutModel",
          "model_module_version": "1.2.0",
          "state": {
            "_model_module": "@jupyter-widgets/base",
            "_model_module_version": "1.2.0",
            "_model_name": "LayoutModel",
            "_view_count": null,
            "_view_module": "@jupyter-widgets/base",
            "_view_module_version": "1.2.0",
            "_view_name": "LayoutView",
            "align_content": null,
            "align_items": null,
            "align_self": null,
            "border": null,
            "bottom": null,
            "display": null,
            "flex": null,
            "flex_flow": null,
            "grid_area": null,
            "grid_auto_columns": null,
            "grid_auto_flow": null,
            "grid_auto_rows": null,
            "grid_column": null,
            "grid_gap": null,
            "grid_row": null,
            "grid_template_areas": null,
            "grid_template_columns": null,
            "grid_template_rows": null,
            "height": null,
            "justify_content": null,
            "justify_items": null,
            "left": null,
            "margin": null,
            "max_height": null,
            "max_width": null,
            "min_height": null,
            "min_width": null,
            "object_fit": null,
            "object_position": null,
            "order": null,
            "overflow": null,
            "overflow_x": null,
            "overflow_y": null,
            "padding": null,
            "right": null,
            "top": null,
            "visibility": null,
            "width": null
          }
        },
        "2a8b1b9a262d499e81d88acaa883766f": {
          "model_module": "@jupyter-widgets/controls",
          "model_name": "DescriptionStyleModel",
          "model_module_version": "1.5.0",
          "state": {
            "_model_module": "@jupyter-widgets/controls",
            "_model_module_version": "1.5.0",
            "_model_name": "DescriptionStyleModel",
            "_view_count": null,
            "_view_module": "@jupyter-widgets/base",
            "_view_module_version": "1.2.0",
            "_view_name": "StyleView",
            "description_width": ""
          }
        },
        "71c5967b6c1146b7b7b9646a5a38cab7": {
          "model_module": "@jupyter-widgets/base",
          "model_name": "LayoutModel",
          "model_module_version": "1.2.0",
          "state": {
            "_model_module": "@jupyter-widgets/base",
            "_model_module_version": "1.2.0",
            "_model_name": "LayoutModel",
            "_view_count": null,
            "_view_module": "@jupyter-widgets/base",
            "_view_module_version": "1.2.0",
            "_view_name": "LayoutView",
            "align_content": null,
            "align_items": null,
            "align_self": null,
            "border": null,
            "bottom": null,
            "display": null,
            "flex": null,
            "flex_flow": null,
            "grid_area": null,
            "grid_auto_columns": null,
            "grid_auto_flow": null,
            "grid_auto_rows": null,
            "grid_column": null,
            "grid_gap": null,
            "grid_row": null,
            "grid_template_areas": null,
            "grid_template_columns": null,
            "grid_template_rows": null,
            "height": null,
            "justify_content": null,
            "justify_items": null,
            "left": null,
            "margin": null,
            "max_height": null,
            "max_width": null,
            "min_height": null,
            "min_width": null,
            "object_fit": null,
            "object_position": null,
            "order": null,
            "overflow": null,
            "overflow_x": null,
            "overflow_y": null,
            "padding": null,
            "right": null,
            "top": null,
            "visibility": null,
            "width": null
          }
        },
        "75c7eb4ea7be4bd4a78d564c3c442a2d": {
          "model_module": "@jupyter-widgets/controls",
          "model_name": "ProgressStyleModel",
          "model_module_version": "1.5.0",
          "state": {
            "_model_module": "@jupyter-widgets/controls",
            "_model_module_version": "1.5.0",
            "_model_name": "ProgressStyleModel",
            "_view_count": null,
            "_view_module": "@jupyter-widgets/base",
            "_view_module_version": "1.2.0",
            "_view_name": "StyleView",
            "bar_color": null,
            "description_width": ""
          }
        },
        "d595903361524c8eae7ff73942c1b47f": {
          "model_module": "@jupyter-widgets/base",
          "model_name": "LayoutModel",
          "model_module_version": "1.2.0",
          "state": {
            "_model_module": "@jupyter-widgets/base",
            "_model_module_version": "1.2.0",
            "_model_name": "LayoutModel",
            "_view_count": null,
            "_view_module": "@jupyter-widgets/base",
            "_view_module_version": "1.2.0",
            "_view_name": "LayoutView",
            "align_content": null,
            "align_items": null,
            "align_self": null,
            "border": null,
            "bottom": null,
            "display": null,
            "flex": null,
            "flex_flow": null,
            "grid_area": null,
            "grid_auto_columns": null,
            "grid_auto_flow": null,
            "grid_auto_rows": null,
            "grid_column": null,
            "grid_gap": null,
            "grid_row": null,
            "grid_template_areas": null,
            "grid_template_columns": null,
            "grid_template_rows": null,
            "height": null,
            "justify_content": null,
            "justify_items": null,
            "left": null,
            "margin": null,
            "max_height": null,
            "max_width": null,
            "min_height": null,
            "min_width": null,
            "object_fit": null,
            "object_position": null,
            "order": null,
            "overflow": null,
            "overflow_x": null,
            "overflow_y": null,
            "padding": null,
            "right": null,
            "top": null,
            "visibility": null,
            "width": null
          }
        },
        "fa8e9a5ba10c4158b945b636988301e3": {
          "model_module": "@jupyter-widgets/controls",
          "model_name": "DescriptionStyleModel",
          "model_module_version": "1.5.0",
          "state": {
            "_model_module": "@jupyter-widgets/controls",
            "_model_module_version": "1.5.0",
            "_model_name": "DescriptionStyleModel",
            "_view_count": null,
            "_view_module": "@jupyter-widgets/base",
            "_view_module_version": "1.2.0",
            "_view_name": "StyleView",
            "description_width": ""
          }
        },
        "363d2f720fae4c2e911428c40bba9b2f": {
          "model_module": "@jupyter-widgets/controls",
          "model_name": "HBoxModel",
          "model_module_version": "1.5.0",
          "state": {
            "_dom_classes": [],
            "_model_module": "@jupyter-widgets/controls",
            "_model_module_version": "1.5.0",
            "_model_name": "HBoxModel",
            "_view_count": null,
            "_view_module": "@jupyter-widgets/controls",
            "_view_module_version": "1.5.0",
            "_view_name": "HBoxView",
            "box_style": "",
            "children": [
              "IPY_MODEL_56d2ef86e60349b48aaa4e0f02e765a8",
              "IPY_MODEL_cc1756c4041645b7827196a54b840258",
              "IPY_MODEL_0e9d1c6b9cda402b8aebb76aa4a013e6"
            ],
            "layout": "IPY_MODEL_6fcef439eef2471db9d41ef5939833ec"
          }
        },
        "56d2ef86e60349b48aaa4e0f02e765a8": {
          "model_module": "@jupyter-widgets/controls",
          "model_name": "HTMLModel",
          "model_module_version": "1.5.0",
          "state": {
            "_dom_classes": [],
            "_model_module": "@jupyter-widgets/controls",
            "_model_module_version": "1.5.0",
            "_model_name": "HTMLModel",
            "_view_count": null,
            "_view_module": "@jupyter-widgets/controls",
            "_view_module_version": "1.5.0",
            "_view_name": "HTMLView",
            "description": "",
            "description_tooltip": null,
            "layout": "IPY_MODEL_4dadd36778474100a8aabf1927c6f138",
            "placeholder": "​",
            "style": "IPY_MODEL_abefd76ed03e4c99af4885df22844455",
            "value": "Downloading model.safetensors: 100%"
          }
        },
        "cc1756c4041645b7827196a54b840258": {
          "model_module": "@jupyter-widgets/controls",
          "model_name": "FloatProgressModel",
          "model_module_version": "1.5.0",
          "state": {
            "_dom_classes": [],
            "_model_module": "@jupyter-widgets/controls",
            "_model_module_version": "1.5.0",
            "_model_name": "FloatProgressModel",
            "_view_count": null,
            "_view_module": "@jupyter-widgets/controls",
            "_view_module_version": "1.5.0",
            "_view_name": "ProgressView",
            "bar_style": "success",
            "description": "",
            "description_tooltip": null,
            "layout": "IPY_MODEL_a61578f1d3464be59a9568c34fee9b3c",
            "max": 440449768,
            "min": 0,
            "orientation": "horizontal",
            "style": "IPY_MODEL_913654b14ba445859ca425cfda028218",
            "value": 440449768
          }
        },
        "0e9d1c6b9cda402b8aebb76aa4a013e6": {
          "model_module": "@jupyter-widgets/controls",
          "model_name": "HTMLModel",
          "model_module_version": "1.5.0",
          "state": {
            "_dom_classes": [],
            "_model_module": "@jupyter-widgets/controls",
            "_model_module_version": "1.5.0",
            "_model_name": "HTMLModel",
            "_view_count": null,
            "_view_module": "@jupyter-widgets/controls",
            "_view_module_version": "1.5.0",
            "_view_name": "HTMLView",
            "description": "",
            "description_tooltip": null,
            "layout": "IPY_MODEL_9e775cf0a8034b588ee5ebca8ba83d11",
            "placeholder": "​",
            "style": "IPY_MODEL_0e0e56a8176b44928bf3da71e6c6fd5f",
            "value": " 440M/440M [00:02&lt;00:00, 203MB/s]"
          }
        },
        "6fcef439eef2471db9d41ef5939833ec": {
          "model_module": "@jupyter-widgets/base",
          "model_name": "LayoutModel",
          "model_module_version": "1.2.0",
          "state": {
            "_model_module": "@jupyter-widgets/base",
            "_model_module_version": "1.2.0",
            "_model_name": "LayoutModel",
            "_view_count": null,
            "_view_module": "@jupyter-widgets/base",
            "_view_module_version": "1.2.0",
            "_view_name": "LayoutView",
            "align_content": null,
            "align_items": null,
            "align_self": null,
            "border": null,
            "bottom": null,
            "display": null,
            "flex": null,
            "flex_flow": null,
            "grid_area": null,
            "grid_auto_columns": null,
            "grid_auto_flow": null,
            "grid_auto_rows": null,
            "grid_column": null,
            "grid_gap": null,
            "grid_row": null,
            "grid_template_areas": null,
            "grid_template_columns": null,
            "grid_template_rows": null,
            "height": null,
            "justify_content": null,
            "justify_items": null,
            "left": null,
            "margin": null,
            "max_height": null,
            "max_width": null,
            "min_height": null,
            "min_width": null,
            "object_fit": null,
            "object_position": null,
            "order": null,
            "overflow": null,
            "overflow_x": null,
            "overflow_y": null,
            "padding": null,
            "right": null,
            "top": null,
            "visibility": null,
            "width": null
          }
        },
        "4dadd36778474100a8aabf1927c6f138": {
          "model_module": "@jupyter-widgets/base",
          "model_name": "LayoutModel",
          "model_module_version": "1.2.0",
          "state": {
            "_model_module": "@jupyter-widgets/base",
            "_model_module_version": "1.2.0",
            "_model_name": "LayoutModel",
            "_view_count": null,
            "_view_module": "@jupyter-widgets/base",
            "_view_module_version": "1.2.0",
            "_view_name": "LayoutView",
            "align_content": null,
            "align_items": null,
            "align_self": null,
            "border": null,
            "bottom": null,
            "display": null,
            "flex": null,
            "flex_flow": null,
            "grid_area": null,
            "grid_auto_columns": null,
            "grid_auto_flow": null,
            "grid_auto_rows": null,
            "grid_column": null,
            "grid_gap": null,
            "grid_row": null,
            "grid_template_areas": null,
            "grid_template_columns": null,
            "grid_template_rows": null,
            "height": null,
            "justify_content": null,
            "justify_items": null,
            "left": null,
            "margin": null,
            "max_height": null,
            "max_width": null,
            "min_height": null,
            "min_width": null,
            "object_fit": null,
            "object_position": null,
            "order": null,
            "overflow": null,
            "overflow_x": null,
            "overflow_y": null,
            "padding": null,
            "right": null,
            "top": null,
            "visibility": null,
            "width": null
          }
        },
        "abefd76ed03e4c99af4885df22844455": {
          "model_module": "@jupyter-widgets/controls",
          "model_name": "DescriptionStyleModel",
          "model_module_version": "1.5.0",
          "state": {
            "_model_module": "@jupyter-widgets/controls",
            "_model_module_version": "1.5.0",
            "_model_name": "DescriptionStyleModel",
            "_view_count": null,
            "_view_module": "@jupyter-widgets/base",
            "_view_module_version": "1.2.0",
            "_view_name": "StyleView",
            "description_width": ""
          }
        },
        "a61578f1d3464be59a9568c34fee9b3c": {
          "model_module": "@jupyter-widgets/base",
          "model_name": "LayoutModel",
          "model_module_version": "1.2.0",
          "state": {
            "_model_module": "@jupyter-widgets/base",
            "_model_module_version": "1.2.0",
            "_model_name": "LayoutModel",
            "_view_count": null,
            "_view_module": "@jupyter-widgets/base",
            "_view_module_version": "1.2.0",
            "_view_name": "LayoutView",
            "align_content": null,
            "align_items": null,
            "align_self": null,
            "border": null,
            "bottom": null,
            "display": null,
            "flex": null,
            "flex_flow": null,
            "grid_area": null,
            "grid_auto_columns": null,
            "grid_auto_flow": null,
            "grid_auto_rows": null,
            "grid_column": null,
            "grid_gap": null,
            "grid_row": null,
            "grid_template_areas": null,
            "grid_template_columns": null,
            "grid_template_rows": null,
            "height": null,
            "justify_content": null,
            "justify_items": null,
            "left": null,
            "margin": null,
            "max_height": null,
            "max_width": null,
            "min_height": null,
            "min_width": null,
            "object_fit": null,
            "object_position": null,
            "order": null,
            "overflow": null,
            "overflow_x": null,
            "overflow_y": null,
            "padding": null,
            "right": null,
            "top": null,
            "visibility": null,
            "width": null
          }
        },
        "913654b14ba445859ca425cfda028218": {
          "model_module": "@jupyter-widgets/controls",
          "model_name": "ProgressStyleModel",
          "model_module_version": "1.5.0",
          "state": {
            "_model_module": "@jupyter-widgets/controls",
            "_model_module_version": "1.5.0",
            "_model_name": "ProgressStyleModel",
            "_view_count": null,
            "_view_module": "@jupyter-widgets/base",
            "_view_module_version": "1.2.0",
            "_view_name": "StyleView",
            "bar_color": null,
            "description_width": ""
          }
        },
        "9e775cf0a8034b588ee5ebca8ba83d11": {
          "model_module": "@jupyter-widgets/base",
          "model_name": "LayoutModel",
          "model_module_version": "1.2.0",
          "state": {
            "_model_module": "@jupyter-widgets/base",
            "_model_module_version": "1.2.0",
            "_model_name": "LayoutModel",
            "_view_count": null,
            "_view_module": "@jupyter-widgets/base",
            "_view_module_version": "1.2.0",
            "_view_name": "LayoutView",
            "align_content": null,
            "align_items": null,
            "align_self": null,
            "border": null,
            "bottom": null,
            "display": null,
            "flex": null,
            "flex_flow": null,
            "grid_area": null,
            "grid_auto_columns": null,
            "grid_auto_flow": null,
            "grid_auto_rows": null,
            "grid_column": null,
            "grid_gap": null,
            "grid_row": null,
            "grid_template_areas": null,
            "grid_template_columns": null,
            "grid_template_rows": null,
            "height": null,
            "justify_content": null,
            "justify_items": null,
            "left": null,
            "margin": null,
            "max_height": null,
            "max_width": null,
            "min_height": null,
            "min_width": null,
            "object_fit": null,
            "object_position": null,
            "order": null,
            "overflow": null,
            "overflow_x": null,
            "overflow_y": null,
            "padding": null,
            "right": null,
            "top": null,
            "visibility": null,
            "width": null
          }
        },
        "0e0e56a8176b44928bf3da71e6c6fd5f": {
          "model_module": "@jupyter-widgets/controls",
          "model_name": "DescriptionStyleModel",
          "model_module_version": "1.5.0",
          "state": {
            "_model_module": "@jupyter-widgets/controls",
            "_model_module_version": "1.5.0",
            "_model_name": "DescriptionStyleModel",
            "_view_count": null,
            "_view_module": "@jupyter-widgets/base",
            "_view_module_version": "1.2.0",
            "_view_name": "StyleView",
            "description_width": ""
          }
        }
      }
    }
  },
  "nbformat": 4,
  "nbformat_minor": 5
}