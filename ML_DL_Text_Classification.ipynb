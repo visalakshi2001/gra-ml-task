{
  "cells": [
    {
      "cell_type": "code",
      "execution_count": 1,
      "id": "241b84fa",
      "metadata": {
        "id": "241b84fa"
      },
      "outputs": [],
      "source": [
        "import numpy as np\n",
        "import pandas as pd\n",
        "from sklearn.model_selection import train_test_split\n",
        "from sklearn.metrics import classification_report\n",
        "from tensorflow import keras\n",
        "from tensorflow.keras import layers\n",
        "from tensorflow.keras.preprocessing.sequence import pad_sequences\n",
        "\n",
        "from transformers import BertTokenizer, TFBertForSequenceClassification\n",
        "import tensorflow as tf\n",
        "from tensorflow.keras.metrics import Precision, Recall"
      ]
    },
    {
      "cell_type": "markdown",
      "id": "1229a4f9",
      "metadata": {
        "id": "1229a4f9"
      },
      "source": [
        "## First Pass (Ensemble)"
      ]
    },
    {
      "cell_type": "code",
      "execution_count": 3,
      "id": "a1a34c28",
      "metadata": {
        "colab": {
          "base_uri": "https://localhost:8080/",
          "height": 423
        },
        "id": "a1a34c28",
        "outputId": "800df75d-420a-4584-a981-699b0bd60e4c"
      },
      "outputs": [
        {
          "output_type": "execute_result",
          "data": {
            "text/plain": [
              "         sID                                                Obs Type  A1  A2  \\\n",
              "0     150668  Observed child fixated on a particular texture...   B3   0   0   \n",
              "1     150409  Patient's focus centers on vacuum cleaners, st...   B3   0   0   \n",
              "2     150264  Displays a strong interest in smelling various...   B4   0   0   \n",
              "3     150373  Patient's attachment to a specific book is evi...   B3   0   0   \n",
              "4     150343  Limited awareness of personal boundaries, inva...   A3   0   0   \n",
              "...      ...                                                ...  ...  ..  ..   \n",
              "1045  150491  Displays a need for consistency in clothing ch...   B2   0   0   \n",
              "1046  150884  Patient shows a strong attachment to a single ...   B3   0   0   \n",
              "1047  151017  Child displays a tendency to focus on irreleva...   A2   0   1   \n",
              "1048  150297  Displays a tendency to monologue about persona...   A3   0   0   \n",
              "1049  150420  Engages in persistent rocking back and forth w...   B1   0   0   \n",
              "\n",
              "      A3  B1  B2  B3  B4  \n",
              "0      0   0   0   1   0  \n",
              "1      0   0   0   1   0  \n",
              "2      0   0   0   0   1  \n",
              "3      0   0   0   1   0  \n",
              "4      1   0   0   0   0  \n",
              "...   ..  ..  ..  ..  ..  \n",
              "1045   0   0   1   0   0  \n",
              "1046   0   0   0   1   0  \n",
              "1047   0   0   0   0   0  \n",
              "1048   1   0   0   0   0  \n",
              "1049   0   1   0   0   0  \n",
              "\n",
              "[1050 rows x 10 columns]"
            ],
            "text/html": [
              "\n",
              "  <div id=\"df-11fe38cb-b466-4ef0-ae13-0fdf9d75511d\" class=\"colab-df-container\">\n",
              "    <div>\n",
              "<style scoped>\n",
              "    .dataframe tbody tr th:only-of-type {\n",
              "        vertical-align: middle;\n",
              "    }\n",
              "\n",
              "    .dataframe tbody tr th {\n",
              "        vertical-align: top;\n",
              "    }\n",
              "\n",
              "    .dataframe thead th {\n",
              "        text-align: right;\n",
              "    }\n",
              "</style>\n",
              "<table border=\"1\" class=\"dataframe\">\n",
              "  <thead>\n",
              "    <tr style=\"text-align: right;\">\n",
              "      <th></th>\n",
              "      <th>sID</th>\n",
              "      <th>Obs</th>\n",
              "      <th>Type</th>\n",
              "      <th>A1</th>\n",
              "      <th>A2</th>\n",
              "      <th>A3</th>\n",
              "      <th>B1</th>\n",
              "      <th>B2</th>\n",
              "      <th>B3</th>\n",
              "      <th>B4</th>\n",
              "    </tr>\n",
              "  </thead>\n",
              "  <tbody>\n",
              "    <tr>\n",
              "      <th>0</th>\n",
              "      <td>150668</td>\n",
              "      <td>Observed child fixated on a particular texture...</td>\n",
              "      <td>B3</td>\n",
              "      <td>0</td>\n",
              "      <td>0</td>\n",
              "      <td>0</td>\n",
              "      <td>0</td>\n",
              "      <td>0</td>\n",
              "      <td>1</td>\n",
              "      <td>0</td>\n",
              "    </tr>\n",
              "    <tr>\n",
              "      <th>1</th>\n",
              "      <td>150409</td>\n",
              "      <td>Patient's focus centers on vacuum cleaners, st...</td>\n",
              "      <td>B3</td>\n",
              "      <td>0</td>\n",
              "      <td>0</td>\n",
              "      <td>0</td>\n",
              "      <td>0</td>\n",
              "      <td>0</td>\n",
              "      <td>1</td>\n",
              "      <td>0</td>\n",
              "    </tr>\n",
              "    <tr>\n",
              "      <th>2</th>\n",
              "      <td>150264</td>\n",
              "      <td>Displays a strong interest in smelling various...</td>\n",
              "      <td>B4</td>\n",
              "      <td>0</td>\n",
              "      <td>0</td>\n",
              "      <td>0</td>\n",
              "      <td>0</td>\n",
              "      <td>0</td>\n",
              "      <td>0</td>\n",
              "      <td>1</td>\n",
              "    </tr>\n",
              "    <tr>\n",
              "      <th>3</th>\n",
              "      <td>150373</td>\n",
              "      <td>Patient's attachment to a specific book is evi...</td>\n",
              "      <td>B3</td>\n",
              "      <td>0</td>\n",
              "      <td>0</td>\n",
              "      <td>0</td>\n",
              "      <td>0</td>\n",
              "      <td>0</td>\n",
              "      <td>1</td>\n",
              "      <td>0</td>\n",
              "    </tr>\n",
              "    <tr>\n",
              "      <th>4</th>\n",
              "      <td>150343</td>\n",
              "      <td>Limited awareness of personal boundaries, inva...</td>\n",
              "      <td>A3</td>\n",
              "      <td>0</td>\n",
              "      <td>0</td>\n",
              "      <td>1</td>\n",
              "      <td>0</td>\n",
              "      <td>0</td>\n",
              "      <td>0</td>\n",
              "      <td>0</td>\n",
              "    </tr>\n",
              "    <tr>\n",
              "      <th>...</th>\n",
              "      <td>...</td>\n",
              "      <td>...</td>\n",
              "      <td>...</td>\n",
              "      <td>...</td>\n",
              "      <td>...</td>\n",
              "      <td>...</td>\n",
              "      <td>...</td>\n",
              "      <td>...</td>\n",
              "      <td>...</td>\n",
              "      <td>...</td>\n",
              "    </tr>\n",
              "    <tr>\n",
              "      <th>1045</th>\n",
              "      <td>150491</td>\n",
              "      <td>Displays a need for consistency in clothing ch...</td>\n",
              "      <td>B2</td>\n",
              "      <td>0</td>\n",
              "      <td>0</td>\n",
              "      <td>0</td>\n",
              "      <td>0</td>\n",
              "      <td>1</td>\n",
              "      <td>0</td>\n",
              "      <td>0</td>\n",
              "    </tr>\n",
              "    <tr>\n",
              "      <th>1046</th>\n",
              "      <td>150884</td>\n",
              "      <td>Patient shows a strong attachment to a single ...</td>\n",
              "      <td>B3</td>\n",
              "      <td>0</td>\n",
              "      <td>0</td>\n",
              "      <td>0</td>\n",
              "      <td>0</td>\n",
              "      <td>0</td>\n",
              "      <td>1</td>\n",
              "      <td>0</td>\n",
              "    </tr>\n",
              "    <tr>\n",
              "      <th>1047</th>\n",
              "      <td>151017</td>\n",
              "      <td>Child displays a tendency to focus on irreleva...</td>\n",
              "      <td>A2</td>\n",
              "      <td>0</td>\n",
              "      <td>1</td>\n",
              "      <td>0</td>\n",
              "      <td>0</td>\n",
              "      <td>0</td>\n",
              "      <td>0</td>\n",
              "      <td>0</td>\n",
              "    </tr>\n",
              "    <tr>\n",
              "      <th>1048</th>\n",
              "      <td>150297</td>\n",
              "      <td>Displays a tendency to monologue about persona...</td>\n",
              "      <td>A3</td>\n",
              "      <td>0</td>\n",
              "      <td>0</td>\n",
              "      <td>1</td>\n",
              "      <td>0</td>\n",
              "      <td>0</td>\n",
              "      <td>0</td>\n",
              "      <td>0</td>\n",
              "    </tr>\n",
              "    <tr>\n",
              "      <th>1049</th>\n",
              "      <td>150420</td>\n",
              "      <td>Engages in persistent rocking back and forth w...</td>\n",
              "      <td>B1</td>\n",
              "      <td>0</td>\n",
              "      <td>0</td>\n",
              "      <td>0</td>\n",
              "      <td>1</td>\n",
              "      <td>0</td>\n",
              "      <td>0</td>\n",
              "      <td>0</td>\n",
              "    </tr>\n",
              "  </tbody>\n",
              "</table>\n",
              "<p>1050 rows × 10 columns</p>\n",
              "</div>\n",
              "    <div class=\"colab-df-buttons\">\n",
              "\n",
              "  <div class=\"colab-df-container\">\n",
              "    <button class=\"colab-df-convert\" onclick=\"convertToInteractive('df-11fe38cb-b466-4ef0-ae13-0fdf9d75511d')\"\n",
              "            title=\"Convert this dataframe to an interactive table.\"\n",
              "            style=\"display:none;\">\n",
              "\n",
              "  <svg xmlns=\"http://www.w3.org/2000/svg\" height=\"24px\" viewBox=\"0 -960 960 960\">\n",
              "    <path d=\"M120-120v-720h720v720H120Zm60-500h600v-160H180v160Zm220 220h160v-160H400v160Zm0 220h160v-160H400v160ZM180-400h160v-160H180v160Zm440 0h160v-160H620v160ZM180-180h160v-160H180v160Zm440 0h160v-160H620v160Z\"/>\n",
              "  </svg>\n",
              "    </button>\n",
              "\n",
              "  <style>\n",
              "    .colab-df-container {\n",
              "      display:flex;\n",
              "      gap: 12px;\n",
              "    }\n",
              "\n",
              "    .colab-df-convert {\n",
              "      background-color: #E8F0FE;\n",
              "      border: none;\n",
              "      border-radius: 50%;\n",
              "      cursor: pointer;\n",
              "      display: none;\n",
              "      fill: #1967D2;\n",
              "      height: 32px;\n",
              "      padding: 0 0 0 0;\n",
              "      width: 32px;\n",
              "    }\n",
              "\n",
              "    .colab-df-convert:hover {\n",
              "      background-color: #E2EBFA;\n",
              "      box-shadow: 0px 1px 2px rgba(60, 64, 67, 0.3), 0px 1px 3px 1px rgba(60, 64, 67, 0.15);\n",
              "      fill: #174EA6;\n",
              "    }\n",
              "\n",
              "    .colab-df-buttons div {\n",
              "      margin-bottom: 4px;\n",
              "    }\n",
              "\n",
              "    [theme=dark] .colab-df-convert {\n",
              "      background-color: #3B4455;\n",
              "      fill: #D2E3FC;\n",
              "    }\n",
              "\n",
              "    [theme=dark] .colab-df-convert:hover {\n",
              "      background-color: #434B5C;\n",
              "      box-shadow: 0px 1px 3px 1px rgba(0, 0, 0, 0.15);\n",
              "      filter: drop-shadow(0px 1px 2px rgba(0, 0, 0, 0.3));\n",
              "      fill: #FFFFFF;\n",
              "    }\n",
              "  </style>\n",
              "\n",
              "    <script>\n",
              "      const buttonEl =\n",
              "        document.querySelector('#df-11fe38cb-b466-4ef0-ae13-0fdf9d75511d button.colab-df-convert');\n",
              "      buttonEl.style.display =\n",
              "        google.colab.kernel.accessAllowed ? 'block' : 'none';\n",
              "\n",
              "      async function convertToInteractive(key) {\n",
              "        const element = document.querySelector('#df-11fe38cb-b466-4ef0-ae13-0fdf9d75511d');\n",
              "        const dataTable =\n",
              "          await google.colab.kernel.invokeFunction('convertToInteractive',\n",
              "                                                    [key], {});\n",
              "        if (!dataTable) return;\n",
              "\n",
              "        const docLinkHtml = 'Like what you see? Visit the ' +\n",
              "          '<a target=\"_blank\" href=https://colab.research.google.com/notebooks/data_table.ipynb>data table notebook</a>'\n",
              "          + ' to learn more about interactive tables.';\n",
              "        element.innerHTML = '';\n",
              "        dataTable['output_type'] = 'display_data';\n",
              "        await google.colab.output.renderOutput(dataTable, element);\n",
              "        const docLink = document.createElement('div');\n",
              "        docLink.innerHTML = docLinkHtml;\n",
              "        element.appendChild(docLink);\n",
              "      }\n",
              "    </script>\n",
              "  </div>\n",
              "\n",
              "\n",
              "<div id=\"df-124ab575-ebe6-4ac7-903a-cc4a6057cefc\">\n",
              "  <button class=\"colab-df-quickchart\" onclick=\"quickchart('df-124ab575-ebe6-4ac7-903a-cc4a6057cefc')\"\n",
              "            title=\"Suggest charts\"\n",
              "            style=\"display:none;\">\n",
              "\n",
              "<svg xmlns=\"http://www.w3.org/2000/svg\" height=\"24px\"viewBox=\"0 0 24 24\"\n",
              "     width=\"24px\">\n",
              "    <g>\n",
              "        <path d=\"M19 3H5c-1.1 0-2 .9-2 2v14c0 1.1.9 2 2 2h14c1.1 0 2-.9 2-2V5c0-1.1-.9-2-2-2zM9 17H7v-7h2v7zm4 0h-2V7h2v10zm4 0h-2v-4h2v4z\"/>\n",
              "    </g>\n",
              "</svg>\n",
              "  </button>\n",
              "\n",
              "<style>\n",
              "  .colab-df-quickchart {\n",
              "      --bg-color: #E8F0FE;\n",
              "      --fill-color: #1967D2;\n",
              "      --hover-bg-color: #E2EBFA;\n",
              "      --hover-fill-color: #174EA6;\n",
              "      --disabled-fill-color: #AAA;\n",
              "      --disabled-bg-color: #DDD;\n",
              "  }\n",
              "\n",
              "  [theme=dark] .colab-df-quickchart {\n",
              "      --bg-color: #3B4455;\n",
              "      --fill-color: #D2E3FC;\n",
              "      --hover-bg-color: #434B5C;\n",
              "      --hover-fill-color: #FFFFFF;\n",
              "      --disabled-bg-color: #3B4455;\n",
              "      --disabled-fill-color: #666;\n",
              "  }\n",
              "\n",
              "  .colab-df-quickchart {\n",
              "    background-color: var(--bg-color);\n",
              "    border: none;\n",
              "    border-radius: 50%;\n",
              "    cursor: pointer;\n",
              "    display: none;\n",
              "    fill: var(--fill-color);\n",
              "    height: 32px;\n",
              "    padding: 0;\n",
              "    width: 32px;\n",
              "  }\n",
              "\n",
              "  .colab-df-quickchart:hover {\n",
              "    background-color: var(--hover-bg-color);\n",
              "    box-shadow: 0 1px 2px rgba(60, 64, 67, 0.3), 0 1px 3px 1px rgba(60, 64, 67, 0.15);\n",
              "    fill: var(--button-hover-fill-color);\n",
              "  }\n",
              "\n",
              "  .colab-df-quickchart-complete:disabled,\n",
              "  .colab-df-quickchart-complete:disabled:hover {\n",
              "    background-color: var(--disabled-bg-color);\n",
              "    fill: var(--disabled-fill-color);\n",
              "    box-shadow: none;\n",
              "  }\n",
              "\n",
              "  .colab-df-spinner {\n",
              "    border: 2px solid var(--fill-color);\n",
              "    border-color: transparent;\n",
              "    border-bottom-color: var(--fill-color);\n",
              "    animation:\n",
              "      spin 1s steps(1) infinite;\n",
              "  }\n",
              "\n",
              "  @keyframes spin {\n",
              "    0% {\n",
              "      border-color: transparent;\n",
              "      border-bottom-color: var(--fill-color);\n",
              "      border-left-color: var(--fill-color);\n",
              "    }\n",
              "    20% {\n",
              "      border-color: transparent;\n",
              "      border-left-color: var(--fill-color);\n",
              "      border-top-color: var(--fill-color);\n",
              "    }\n",
              "    30% {\n",
              "      border-color: transparent;\n",
              "      border-left-color: var(--fill-color);\n",
              "      border-top-color: var(--fill-color);\n",
              "      border-right-color: var(--fill-color);\n",
              "    }\n",
              "    40% {\n",
              "      border-color: transparent;\n",
              "      border-right-color: var(--fill-color);\n",
              "      border-top-color: var(--fill-color);\n",
              "    }\n",
              "    60% {\n",
              "      border-color: transparent;\n",
              "      border-right-color: var(--fill-color);\n",
              "    }\n",
              "    80% {\n",
              "      border-color: transparent;\n",
              "      border-right-color: var(--fill-color);\n",
              "      border-bottom-color: var(--fill-color);\n",
              "    }\n",
              "    90% {\n",
              "      border-color: transparent;\n",
              "      border-bottom-color: var(--fill-color);\n",
              "    }\n",
              "  }\n",
              "</style>\n",
              "\n",
              "  <script>\n",
              "    async function quickchart(key) {\n",
              "      const quickchartButtonEl =\n",
              "        document.querySelector('#' + key + ' button');\n",
              "      quickchartButtonEl.disabled = true;  // To prevent multiple clicks.\n",
              "      quickchartButtonEl.classList.add('colab-df-spinner');\n",
              "      try {\n",
              "        const charts = await google.colab.kernel.invokeFunction(\n",
              "            'suggestCharts', [key], {});\n",
              "      } catch (error) {\n",
              "        console.error('Error during call to suggestCharts:', error);\n",
              "      }\n",
              "      quickchartButtonEl.classList.remove('colab-df-spinner');\n",
              "      quickchartButtonEl.classList.add('colab-df-quickchart-complete');\n",
              "    }\n",
              "    (() => {\n",
              "      let quickchartButtonEl =\n",
              "        document.querySelector('#df-124ab575-ebe6-4ac7-903a-cc4a6057cefc button');\n",
              "      quickchartButtonEl.style.display =\n",
              "        google.colab.kernel.accessAllowed ? 'block' : 'none';\n",
              "    })();\n",
              "  </script>\n",
              "</div>\n",
              "    </div>\n",
              "  </div>\n"
            ]
          },
          "metadata": {},
          "execution_count": 3
        }
      ],
      "source": [
        "# Load your dataset\n",
        "# Assuming you have a DataFrame with 'text' column and 'label' column\n",
        "# where 'label' contains A1, A2, A3, B1, B2, B3, B4 labels\n",
        "# Replace 'your_dataset.csv' with your actual dataset file\n",
        "df = pd.read_csv('/content/Problem_Dataset.csv')\n",
        "\n",
        "df"
      ]
    },
    {
      "cell_type": "code",
      "execution_count": 8,
      "id": "0c4cea88",
      "metadata": {
        "id": "0c4cea88"
      },
      "outputs": [],
      "source": [
        "df1 = df[[\"Obs\", \"Type\"]]\n",
        "# Split the dataset into training and validation sets\n",
        "train_data, val_data = train_test_split(df1, test_size=0.2, random_state=101)"
      ]
    },
    {
      "cell_type": "code",
      "execution_count": null,
      "id": "418f1d7a",
      "metadata": {
        "id": "418f1d7a"
      },
      "outputs": [],
      "source": [
        "# Tokenize your text data\n",
        "tokenizer = keras.preprocessing.text.Tokenizer()\n",
        "tokenizer.fit_on_texts(train_data['Obs'])\n",
        "\n",
        "vocab_size = len(tokenizer.word_index) + 1\n",
        "max_len = max(len(sentence.split()) for sentence in df['Obs'])\n",
        "\n"
      ]
    },
    {
      "cell_type": "code",
      "execution_count": null,
      "id": "baa28e33",
      "metadata": {
        "id": "baa28e33"
      },
      "outputs": [],
      "source": [
        "# Define a simple deep learning model\n",
        "def create_model(embedding_dim=50):\n",
        "    model = keras.Sequential([\n",
        "        layers.Embedding(input_dim=vocab_size, output_dim=embedding_dim, input_length=max_len),\n",
        "        layers.Flatten(),\n",
        "        layers.Dense(128, activation='relu'),\n",
        "        layers.Dense(1, activation='sigmoid')\n",
        "    ])\n",
        "    model.compile(optimizer='adam', loss='binary_crossentropy', metrics=['accuracy'])\n",
        "    return model"
      ]
    },
    {
      "cell_type": "code",
      "execution_count": null,
      "id": "9631a357",
      "metadata": {
        "id": "9631a357"
      },
      "outputs": [],
      "source": [
        "# integer encode and pad documents\n",
        "def encode_docs(tokenizer, max_length, docs):\n",
        "    # integer encode\n",
        "    encoded = tokenizer.texts_to_sequences(docs)\n",
        "    # pad sequences\n",
        "    padded = pad_sequences(encoded, maxlen=max_length, padding='post')\n",
        "    return padded"
      ]
    },
    {
      "cell_type": "code",
      "execution_count": null,
      "id": "785db6ac",
      "metadata": {
        "id": "785db6ac",
        "outputId": "e4dacac3-3247-4558-f1e3-b507cddcbfcf"
      },
      "outputs": [
        {
          "data": {
            "text/plain": [
              "array([[ 12, 427,  87, ...,   0,   0,   0],\n",
              "       [ 14,  17,   5, ...,   0,   0,   0],\n",
              "       [ 12,   5,  32, ...,   0,   0,   0],\n",
              "       ...,\n",
              "       [ 14,  45,   2, ...,   0,   0,   0],\n",
              "       [523, 866,   1, ...,   0,   0,   0],\n",
              "       [ 11,   5,  48, ...,   0,   0,   0]])"
            ]
          },
          "execution_count": 42,
          "metadata": {},
          "output_type": "execute_result"
        }
      ],
      "source": [
        "encode_docs(tokenizer, max_len, train_data[\"Obs\"])"
      ]
    },
    {
      "cell_type": "code",
      "execution_count": 14,
      "id": "94184953",
      "metadata": {
        "colab": {
          "base_uri": "https://localhost:8080/"
        },
        "id": "94184953",
        "outputId": "75b1162a-610d-449a-fc11-16984166eef5"
      },
      "outputs": [
        {
          "output_type": "execute_result",
          "data": {
            "text/plain": [
              "array(['B3', 'B4', 'A3', 'B1', 'B2', 'A1', 'A2'], dtype=object)"
            ]
          },
          "metadata": {},
          "execution_count": 14
        }
      ],
      "source": [
        "df1['Type'].unique()"
      ]
    },
    {
      "cell_type": "code",
      "execution_count": null,
      "id": "8f3cfea0",
      "metadata": {
        "id": "8f3cfea0",
        "outputId": "fea9f5e3-efa3-460b-9806-6fef10d6fbb5"
      },
      "outputs": [
        {
          "name": "stdout",
          "output_type": "stream",
          "text": [
            "Train on 672 samples, validate on 168 samples\n",
            "Epoch 1/5\n",
            "672/672 [==============================] - 6s 9ms/sample - loss: 0.4630 - accuracy: 0.8289 - val_loss: 0.3605 - val_accuracy: 0.8690\n",
            "Epoch 2/5\n",
            "672/672 [==============================] - 1s 813us/sample - loss: 0.3332 - accuracy: 0.8601 - val_loss: 0.2964 - val_accuracy: 0.8750\n",
            "Epoch 3/5\n",
            "672/672 [==============================] - 0s 315us/sample - loss: 0.2153 - accuracy: 0.8988 - val_loss: 0.2107 - val_accuracy: 0.9167\n",
            "Epoch 4/5\n",
            "672/672 [==============================] - 0s 272us/sample - loss: 0.1059 - accuracy: 0.9836 - val_loss: 0.1414 - val_accuracy: 0.9405\n",
            "Epoch 5/5\n",
            "672/672 [==============================] - 0s 276us/sample - loss: 0.0324 - accuracy: 0.9985 - val_loss: 0.1069 - val_accuracy: 0.9702\n",
            "Train on 672 samples, validate on 168 samples\n",
            "Epoch 1/5\n",
            "672/672 [==============================] - 1s 1ms/sample - loss: 0.4687 - accuracy: 0.8423 - val_loss: 0.5391 - val_accuracy: 0.8214\n",
            "Epoch 2/5\n",
            "672/672 [==============================] - 0s 258us/sample - loss: 0.3642 - accuracy: 0.8735 - val_loss: 0.4427 - val_accuracy: 0.8214\n",
            "Epoch 3/5\n",
            "672/672 [==============================] - 0s 333us/sample - loss: 0.2910 - accuracy: 0.8735 - val_loss: 0.3658 - val_accuracy: 0.8214\n",
            "Epoch 4/5\n",
            "672/672 [==============================] - 0s 313us/sample - loss: 0.1840 - accuracy: 0.9077 - val_loss: 0.2530 - val_accuracy: 0.8452\n",
            "Epoch 5/5\n",
            "672/672 [==============================] - 0s 336us/sample - loss: 0.0866 - accuracy: 0.9821 - val_loss: 0.1449 - val_accuracy: 0.9345\n",
            "Train on 672 samples, validate on 168 samples\n",
            "Epoch 1/5\n",
            "672/672 [==============================] - 1s 2ms/sample - loss: 0.4684 - accuracy: 0.8512 - val_loss: 0.3889 - val_accuracy: 0.8750\n",
            "Epoch 2/5\n",
            "672/672 [==============================] - 0s 283us/sample - loss: 0.3741 - accuracy: 0.8542 - val_loss: 0.3311 - val_accuracy: 0.8750\n",
            "Epoch 3/5\n",
            "672/672 [==============================] - 0s 278us/sample - loss: 0.2683 - accuracy: 0.8542 - val_loss: 0.2643 - val_accuracy: 0.8750\n",
            "Epoch 4/5\n",
            "672/672 [==============================] - 0s 277us/sample - loss: 0.1865 - accuracy: 0.8676 - val_loss: 0.2218 - val_accuracy: 0.8810\n",
            "Epoch 5/5\n",
            "672/672 [==============================] - 0s 298us/sample - loss: 0.1382 - accuracy: 0.9539 - val_loss: 0.1967 - val_accuracy: 0.9107\n",
            "Train on 672 samples, validate on 168 samples\n",
            "Epoch 1/5\n",
            "672/672 [==============================] - 1s 2ms/sample - loss: 0.4993 - accuracy: 0.8289 - val_loss: 0.4761 - val_accuracy: 0.8333\n",
            "Epoch 2/5\n",
            "672/672 [==============================] - 0s 288us/sample - loss: 0.3628 - accuracy: 0.8631 - val_loss: 0.3859 - val_accuracy: 0.8333\n",
            "Epoch 3/5\n",
            "672/672 [==============================] - 0s 280us/sample - loss: 0.2498 - accuracy: 0.8631 - val_loss: 0.2815 - val_accuracy: 0.8333\n",
            "Epoch 4/5\n",
            "672/672 [==============================] - 0s 265us/sample - loss: 0.1447 - accuracy: 0.8646 - val_loss: 0.2215 - val_accuracy: 0.8333\n",
            "Epoch 5/5\n",
            "672/672 [==============================] - 0s 303us/sample - loss: 0.1094 - accuracy: 0.9554 - val_loss: 0.2131 - val_accuracy: 0.8869\n",
            "Train on 672 samples, validate on 168 samples\n",
            "Epoch 1/5\n",
            "672/672 [==============================] - 1s 2ms/sample - loss: 0.4632 - accuracy: 0.8185 - val_loss: 0.3599 - val_accuracy: 0.8571\n",
            "Epoch 2/5\n",
            "672/672 [==============================] - 0s 272us/sample - loss: 0.3293 - accuracy: 0.8571 - val_loss: 0.2829 - val_accuracy: 0.8750\n",
            "Epoch 3/5\n",
            "672/672 [==============================] - 0s 273us/sample - loss: 0.2085 - accuracy: 0.9152 - val_loss: 0.1864 - val_accuracy: 0.9167\n",
            "Epoch 4/5\n",
            "672/672 [==============================] - 0s 291us/sample - loss: 0.0835 - accuracy: 0.9851 - val_loss: 0.0966 - val_accuracy: 0.9643\n",
            "Epoch 5/5\n",
            "672/672 [==============================] - 0s 352us/sample - loss: 0.0233 - accuracy: 0.9970 - val_loss: 0.0762 - val_accuracy: 0.9643\n",
            "Train on 672 samples, validate on 168 samples\n",
            "Epoch 1/5\n",
            "672/672 [==============================] - 1s 2ms/sample - loss: 0.4913 - accuracy: 0.8244 - val_loss: 0.4275 - val_accuracy: 0.8571\n",
            "Epoch 2/5\n",
            "672/672 [==============================] - 0s 277us/sample - loss: 0.3799 - accuracy: 0.8542 - val_loss: 0.3809 - val_accuracy: 0.8571\n",
            "Epoch 3/5\n",
            "672/672 [==============================] - 0s 292us/sample - loss: 0.2901 - accuracy: 0.8557 - val_loss: 0.3327 - val_accuracy: 0.8571\n",
            "Epoch 4/5\n",
            "672/672 [==============================] - 0s 347us/sample - loss: 0.1929 - accuracy: 0.9226 - val_loss: 0.3323 - val_accuracy: 0.8750\n",
            "Epoch 5/5\n",
            "672/672 [==============================] - 0s 300us/sample - loss: 0.1223 - accuracy: 0.9702 - val_loss: 0.3254 - val_accuracy: 0.8929\n",
            "Train on 672 samples, validate on 168 samples\n",
            "Epoch 1/5\n",
            "672/672 [==============================] - 1s 1ms/sample - loss: 0.4905 - accuracy: 0.8199 - val_loss: 0.3479 - val_accuracy: 0.8869\n",
            "Epoch 2/5\n",
            "672/672 [==============================] - 0s 255us/sample - loss: 0.3791 - accuracy: 0.8438 - val_loss: 0.3298 - val_accuracy: 0.8869\n",
            "Epoch 3/5\n",
            "672/672 [==============================] - 0s 271us/sample - loss: 0.2796 - accuracy: 0.8467 - val_loss: 0.2440 - val_accuracy: 0.8869\n",
            "Epoch 4/5\n",
            "672/672 [==============================] - 0s 294us/sample - loss: 0.1688 - accuracy: 0.9301 - val_loss: 0.1961 - val_accuracy: 0.9286\n",
            "Epoch 5/5\n",
            "672/672 [==============================] - 0s 275us/sample - loss: 0.0987 - accuracy: 0.9821 - val_loss: 0.1735 - val_accuracy: 0.9286\n"
          ]
        }
      ],
      "source": [
        "# Train a model for each label\n",
        "models = {}\n",
        "for label in df_['Type'].unique():\n",
        "    binary_labels = (train_data['Type'] == label).astype(int)\n",
        "    X_data = encode_docs(tokenizer, max_len, train_data[\"Obs\"])\n",
        "    y_data = np.asarray(binary_labels)\n",
        "    model = create_model()\n",
        "    model.fit(X_data, y_data, epochs=5, batch_size=32, validation_split=0.2)\n",
        "    models[label] = model\n",
        "\n"
      ]
    },
    {
      "cell_type": "code",
      "execution_count": null,
      "id": "26a2a26b",
      "metadata": {
        "id": "26a2a26b",
        "outputId": "aeaa51fc-086f-493f-c5f4-7f42b37fbe6d"
      },
      "outputs": [
        {
          "data": {
            "text/plain": [
              "{'B3': <tensorflow.python.keras.engine.sequential.Sequential at 0x20790227088>,\n",
              " 'B4': <tensorflow.python.keras.engine.sequential.Sequential at 0x20791ff7e08>,\n",
              " 'A3': <tensorflow.python.keras.engine.sequential.Sequential at 0x20791470508>,\n",
              " 'B1': <tensorflow.python.keras.engine.sequential.Sequential at 0x20791259f48>,\n",
              " 'B2': <tensorflow.python.keras.engine.sequential.Sequential at 0x207914e85c8>,\n",
              " 'A1': <tensorflow.python.keras.engine.sequential.Sequential at 0x20791aa0308>,\n",
              " 'A2': <tensorflow.python.keras.engine.sequential.Sequential at 0x207917dc3c8>}"
            ]
          },
          "execution_count": 58,
          "metadata": {},
          "output_type": "execute_result"
        }
      ],
      "source": [
        "models"
      ]
    },
    {
      "cell_type": "code",
      "execution_count": null,
      "id": "fae13415",
      "metadata": {
        "id": "fae13415"
      },
      "outputs": [],
      "source": [
        "# Load all the models into an ensemble\n",
        "ensemble_predictions = []\n",
        "for model_label, model in models.items():\n",
        "    val_predictions = model.predict(encode_docs(tokenizer, max_len, val_data[\"Obs\"]))\n",
        "    ensemble_predictions.append(val_predictions)\n",
        "\n"
      ]
    },
    {
      "cell_type": "code",
      "execution_count": null,
      "id": "cee74b02",
      "metadata": {
        "id": "cee74b02"
      },
      "outputs": [],
      "source": [
        "# Create an array of predictions for each input text\n",
        "ensemble_predictions = np.array(ensemble_predictions).squeeze().T\n",
        "\n"
      ]
    },
    {
      "cell_type": "code",
      "execution_count": null,
      "id": "6992fa77",
      "metadata": {
        "id": "6992fa77"
      },
      "outputs": [],
      "source": [
        "# Threshold ensemble predictions for binary classification\n",
        "binary_ensemble_predictions = (ensemble_predictions > 0.5).astype(int)\n",
        "\n"
      ]
    },
    {
      "cell_type": "code",
      "execution_count": null,
      "id": "792344a5",
      "metadata": {
        "id": "792344a5",
        "outputId": "dc38d0e1-8bcc-4e23-f5dc-d511ab42c608"
      },
      "outputs": [
        {
          "name": "stdout",
          "output_type": "stream",
          "text": [
            "Ensemble Classification Report:\n",
            "              precision    recall  f1-score   support\n",
            "\n",
            "          B3       0.27      0.94      0.42        33\n",
            "          B4       0.89      0.49      0.63        35\n",
            "          A3       0.67      0.13      0.22        31\n",
            "          B1       1.00      0.47      0.64        30\n",
            "          B2       0.96      0.81      0.88        27\n",
            "          A1       0.89      0.29      0.43        28\n",
            "          A2       0.71      0.65      0.68        26\n",
            "\n",
            "    accuracy                           0.54       210\n",
            "   macro avg       0.77      0.54      0.56       210\n",
            "weighted avg       0.76      0.54      0.55       210\n",
            "\n"
          ]
        }
      ],
      "source": [
        "# Obtain precision, recall, F1-score, and print the classification report\n",
        "\n",
        "y_val = val_data[\"Type\"].apply(lambda x: list(models.keys()).index(x)).values\n",
        "y_hat = np.argmax((ensemble_predictions > 0.5).astype(int), axis=1)\n",
        "\n",
        "print(\"Ensemble Classification Report:\")\n",
        "print(classification_report(y_val, y_hat, target_names=models.keys()))"
      ]
    },
    {
      "cell_type": "markdown",
      "id": "a1b09cdc",
      "metadata": {
        "id": "a1b09cdc"
      },
      "source": [
        "## Second Pass (Multi-label)"
      ]
    },
    {
      "cell_type": "code",
      "execution_count": null,
      "id": "0f96c6d9",
      "metadata": {
        "id": "0f96c6d9",
        "outputId": "7265a946-740e-4d9e-9602-b70374cb72d7"
      },
      "outputs": [
        {
          "data": {
            "text/html": [
              "<div>\n",
              "<style scoped>\n",
              "    .dataframe tbody tr th:only-of-type {\n",
              "        vertical-align: middle;\n",
              "    }\n",
              "\n",
              "    .dataframe tbody tr th {\n",
              "        vertical-align: top;\n",
              "    }\n",
              "\n",
              "    .dataframe thead th {\n",
              "        text-align: right;\n",
              "    }\n",
              "</style>\n",
              "<table border=\"1\" class=\"dataframe\">\n",
              "  <thead>\n",
              "    <tr style=\"text-align: right;\">\n",
              "      <th></th>\n",
              "      <th>Obs</th>\n",
              "      <th>Type</th>\n",
              "    </tr>\n",
              "  </thead>\n",
              "  <tbody>\n",
              "    <tr>\n",
              "      <th>0</th>\n",
              "      <td>Observed child fixated on a particular texture...</td>\n",
              "      <td>[1, 0, 0, 0, 0, 0, 0]</td>\n",
              "    </tr>\n",
              "    <tr>\n",
              "      <th>1</th>\n",
              "      <td>Patient's focus centers on vacuum cleaners, st...</td>\n",
              "      <td>[1, 0, 0, 0, 0, 0, 0]</td>\n",
              "    </tr>\n",
              "    <tr>\n",
              "      <th>2</th>\n",
              "      <td>Displays a strong interest in smelling various...</td>\n",
              "      <td>[0, 1, 0, 0, 0, 0, 0]</td>\n",
              "    </tr>\n",
              "    <tr>\n",
              "      <th>3</th>\n",
              "      <td>Patient's attachment to a specific book is evi...</td>\n",
              "      <td>[1, 0, 0, 0, 0, 0, 0]</td>\n",
              "    </tr>\n",
              "    <tr>\n",
              "      <th>4</th>\n",
              "      <td>Limited awareness of personal boundaries, inva...</td>\n",
              "      <td>[0, 0, 1, 0, 0, 0, 0]</td>\n",
              "    </tr>\n",
              "    <tr>\n",
              "      <th>...</th>\n",
              "      <td>...</td>\n",
              "      <td>...</td>\n",
              "    </tr>\n",
              "    <tr>\n",
              "      <th>1045</th>\n",
              "      <td>Displays a need for consistency in clothing ch...</td>\n",
              "      <td>[0, 0, 0, 0, 1, 0, 0]</td>\n",
              "    </tr>\n",
              "    <tr>\n",
              "      <th>1046</th>\n",
              "      <td>Patient shows a strong attachment to a single ...</td>\n",
              "      <td>[1, 0, 0, 0, 0, 0, 0]</td>\n",
              "    </tr>\n",
              "    <tr>\n",
              "      <th>1047</th>\n",
              "      <td>Child displays a tendency to focus on irreleva...</td>\n",
              "      <td>[0, 0, 0, 0, 0, 0, 1]</td>\n",
              "    </tr>\n",
              "    <tr>\n",
              "      <th>1048</th>\n",
              "      <td>Displays a tendency to monologue about persona...</td>\n",
              "      <td>[0, 0, 1, 0, 0, 0, 0]</td>\n",
              "    </tr>\n",
              "    <tr>\n",
              "      <th>1049</th>\n",
              "      <td>Engages in persistent rocking back and forth w...</td>\n",
              "      <td>[0, 0, 0, 1, 0, 0, 0]</td>\n",
              "    </tr>\n",
              "  </tbody>\n",
              "</table>\n",
              "<p>1050 rows × 2 columns</p>\n",
              "</div>"
            ],
            "text/plain": [
              "                                                    Obs                   Type\n",
              "0     Observed child fixated on a particular texture...  [1, 0, 0, 0, 0, 0, 0]\n",
              "1     Patient's focus centers on vacuum cleaners, st...  [1, 0, 0, 0, 0, 0, 0]\n",
              "2     Displays a strong interest in smelling various...  [0, 1, 0, 0, 0, 0, 0]\n",
              "3     Patient's attachment to a specific book is evi...  [1, 0, 0, 0, 0, 0, 0]\n",
              "4     Limited awareness of personal boundaries, inva...  [0, 0, 1, 0, 0, 0, 0]\n",
              "...                                                 ...                    ...\n",
              "1045  Displays a need for consistency in clothing ch...  [0, 0, 0, 0, 1, 0, 0]\n",
              "1046  Patient shows a strong attachment to a single ...  [1, 0, 0, 0, 0, 0, 0]\n",
              "1047  Child displays a tendency to focus on irreleva...  [0, 0, 0, 0, 0, 0, 1]\n",
              "1048  Displays a tendency to monologue about persona...  [0, 0, 1, 0, 0, 0, 0]\n",
              "1049  Engages in persistent rocking back and forth w...  [0, 0, 0, 1, 0, 0, 0]\n",
              "\n",
              "[1050 rows x 2 columns]"
            ]
          },
          "execution_count": 137,
          "metadata": {},
          "output_type": "execute_result"
        }
      ],
      "source": [
        "\n",
        "df2 = pd.DataFrame()\n",
        "df2[\"Obs\"] = df[\"Obs\"]\n",
        "df2[\"Type\"] = [arr for arr in df[df[\"Type\"].unique()].values]\n",
        "\n",
        "df2"
      ]
    },
    {
      "cell_type": "code",
      "execution_count": null,
      "id": "02cc7448",
      "metadata": {
        "id": "02cc7448"
      },
      "outputs": [],
      "source": [
        "# Split the dataset into training and validation sets\n",
        "\n",
        "train_data, val_data = train_test_split(df2, test_size=0.2, random_state=101)\n"
      ]
    },
    {
      "cell_type": "code",
      "execution_count": null,
      "id": "a09ed863",
      "metadata": {
        "id": "a09ed863"
      },
      "outputs": [],
      "source": [
        "# Tokenize your text data\n",
        "tokenizer = keras.preprocessing.text.Tokenizer()\n",
        "tokenizer.fit_on_texts(df2['Obs'])\n",
        "\n",
        "\n",
        "vocab_size = len(tokenizer.word_index) + 1\n",
        "max_len = max(len(sentence.split()) for sentence in df2['Obs'])\n",
        "\n",
        "def encode_docs(tokenizer, max_length, docs):\n",
        "    # integer encode\n",
        "    encoded = tokenizer.texts_to_sequences(docs)\n",
        "    # pad sequences\n",
        "    padded = pad_sequences(encoded, maxlen=max_length, padding='post')\n",
        "    return padded\n"
      ]
    },
    {
      "cell_type": "code",
      "execution_count": null,
      "id": "a108793f",
      "metadata": {
        "id": "a108793f",
        "outputId": "09d45dba-8d03-451b-8f04-319fd4b2f45b"
      },
      "outputs": [
        {
          "data": {
            "text/plain": [
              "array([[ 12, 427,  87, ...,   0,   0,   0],\n",
              "       [ 14,  17,   5, ...,   0,   0,   0],\n",
              "       [ 12,   5,  32, ...,   0,   0,   0],\n",
              "       ...,\n",
              "       [ 14,  45,   2, ...,   0,   0,   0],\n",
              "       [523, 866,   1, ...,   0,   0,   0],\n",
              "       [ 11,   5,  48, ...,   0,   0,   0]])"
            ]
          },
          "execution_count": 143,
          "metadata": {},
          "output_type": "execute_result"
        }
      ],
      "source": []
    },
    {
      "cell_type": "code",
      "execution_count": null,
      "id": "a5df3a33",
      "metadata": {
        "id": "a5df3a33"
      },
      "outputs": [],
      "source": []
    },
    {
      "cell_type": "code",
      "execution_count": null,
      "id": "82a05d18",
      "metadata": {
        "id": "82a05d18",
        "outputId": "d25f8a2e-3f5e-4fa1-cde1-dca7713f1008"
      },
      "outputs": [
        {
          "data": {
            "text/plain": [
              "{'B3': 0, 'B4': 1, 'A3': 2, 'B1': 3, 'B2': 4, 'A1': 5, 'A2': 6}"
            ]
          },
          "execution_count": 157,
          "metadata": {},
          "output_type": "execute_result"
        }
      ],
      "source": [
        "# class_to_index = dict(zip(df_['Type'].unique(), range(len(df_['Type'].unique()))))\n",
        "class_to_index"
      ]
    },
    {
      "cell_type": "code",
      "execution_count": null,
      "id": "8ce14da0",
      "metadata": {
        "id": "8ce14da0",
        "outputId": "c494972c-7f8b-4bba-c01f-f6d059cfac48"
      },
      "outputs": [
        {
          "data": {
            "text/plain": [
              "(840, 7)"
            ]
          },
          "execution_count": 192,
          "metadata": {},
          "output_type": "execute_result"
        }
      ],
      "source": [
        "binary_labels = np.array([np.asarray(x, dtype = np.float64) for x in train_data[\"Type\"]])\n",
        "binary_labels.shape"
      ]
    },
    {
      "cell_type": "code",
      "execution_count": null,
      "id": "17ec9bbe",
      "metadata": {
        "id": "17ec9bbe",
        "outputId": "9e9bb8bd-3435-461e-8991-e96735d6487e"
      },
      "outputs": [
        {
          "data": {
            "text/plain": [
              "(840, 26)"
            ]
          },
          "execution_count": 193,
          "metadata": {},
          "output_type": "execute_result"
        }
      ],
      "source": [
        "encoded_data = encode_docs(tokenizer, max_len, train_data[\"Obs\"])\n",
        "encoded_data.shape"
      ]
    },
    {
      "cell_type": "code",
      "execution_count": null,
      "id": "7f03702b",
      "metadata": {
        "id": "7f03702b"
      },
      "outputs": [],
      "source": [
        "# Define a multi-label deep learning model\n",
        "\n",
        "def create_multi_label_model(embedding_dim=50, num_classes=7):  # Set appropriate values for embedding_dim and num_classes\n",
        "    model = keras.Sequential([\n",
        "        layers.Embedding(input_dim=vocab_size, output_dim=embedding_dim, input_length=max_len),\n",
        "        layers.Flatten(),\n",
        "        layers.Dense(128, activation='relu'),\n",
        "        layers.Dense(num_classes, activation='sigmoid')  # Use sigmoid activation for multi-label classification\n",
        "    ])\n",
        "    model.compile(optimizer='adam', loss='binary_crossentropy', metrics=['accuracy'])\n",
        "    return model"
      ]
    },
    {
      "cell_type": "code",
      "execution_count": null,
      "id": "b2e0b5ee",
      "metadata": {
        "scrolled": true,
        "id": "b2e0b5ee",
        "outputId": "8356da66-0fb2-42fe-c6f3-d25a22d99fa7"
      },
      "outputs": [
        {
          "name": "stdout",
          "output_type": "stream",
          "text": [
            "Train on 672 samples, validate on 168 samples\n",
            "Epoch 1/15\n",
            "672/672 [==============================] - 1s 2ms/sample - loss: 0.5273 - accuracy: 0.8408 - val_loss: 0.4176 - val_accuracy: 0.8571\n",
            "Epoch 2/15\n",
            "672/672 [==============================] - 0s 257us/sample - loss: 0.4074 - accuracy: 0.8571 - val_loss: 0.4011 - val_accuracy: 0.8571\n",
            "Epoch 3/15\n",
            "672/672 [==============================] - 0s 253us/sample - loss: 0.3760 - accuracy: 0.8571 - val_loss: 0.3780 - val_accuracy: 0.8571\n",
            "Epoch 4/15\n",
            "672/672 [==============================] - 0s 257us/sample - loss: 0.3308 - accuracy: 0.8576 - val_loss: 0.3461 - val_accuracy: 0.8605\n",
            "Epoch 5/15\n",
            "672/672 [==============================] - 0s 265us/sample - loss: 0.2682 - accuracy: 0.8776 - val_loss: 0.2962 - val_accuracy: 0.8716\n",
            "Epoch 6/15\n",
            "672/672 [==============================] - 0s 269us/sample - loss: 0.1980 - accuracy: 0.9203 - val_loss: 0.2568 - val_accuracy: 0.8903\n",
            "Epoch 7/15\n",
            "672/672 [==============================] - 0s 310us/sample - loss: 0.1379 - accuracy: 0.9598 - val_loss: 0.2218 - val_accuracy: 0.9022\n",
            "Epoch 8/15\n",
            "672/672 [==============================] - 0s 350us/sample - loss: 0.0945 - accuracy: 0.9787 - val_loss: 0.2020 - val_accuracy: 0.9133\n",
            "Epoch 9/15\n",
            "672/672 [==============================] - 0s 312us/sample - loss: 0.0625 - accuracy: 0.9887 - val_loss: 0.1932 - val_accuracy: 0.9226\n",
            "Epoch 10/15\n",
            "672/672 [==============================] - 0s 321us/sample - loss: 0.0424 - accuracy: 0.9951 - val_loss: 0.1914 - val_accuracy: 0.9235\n",
            "Epoch 11/15\n",
            "672/672 [==============================] - 0s 319us/sample - loss: 0.0294 - accuracy: 0.9979 - val_loss: 0.1898 - val_accuracy: 0.9269\n",
            "Epoch 12/15\n",
            "672/672 [==============================] - 0s 303us/sample - loss: 0.0206 - accuracy: 0.9989 - val_loss: 0.1939 - val_accuracy: 0.9260\n",
            "Epoch 13/15\n",
            "672/672 [==============================] - 0s 305us/sample - loss: 0.0153 - accuracy: 0.9991 - val_loss: 0.1981 - val_accuracy: 0.9269\n",
            "Epoch 14/15\n",
            "672/672 [==============================] - 0s 402us/sample - loss: 0.0116 - accuracy: 0.9998 - val_loss: 0.2009 - val_accuracy: 0.9252\n",
            "Epoch 15/15\n",
            "672/672 [==============================] - 0s 331us/sample - loss: 0.0090 - accuracy: 1.0000 - val_loss: 0.2041 - val_accuracy: 0.9243\n"
          ]
        },
        {
          "data": {
            "text/plain": [
              "<tensorflow.python.keras.callbacks.History at 0x2079a155508>"
            ]
          },
          "execution_count": 195,
          "metadata": {},
          "output_type": "execute_result"
        }
      ],
      "source": [
        "# Train a multi-label model\n",
        "num_classes = 7  # Number of unique classes (A1, A2, A3, B1, B2, B3, B4)\n",
        "\n",
        "multi_label_model = create_multi_label_model()\n",
        "multi_label_model.fit(encoded_data, binary_labels, epochs=15, batch_size=32, validation_split=0.2)\n",
        "\n",
        "# Save the model\n",
        "# model.save('multi_label_model.h5')\n",
        "\n"
      ]
    },
    {
      "cell_type": "code",
      "execution_count": null,
      "id": "291b7a66",
      "metadata": {
        "id": "291b7a66"
      },
      "outputs": [],
      "source": [
        "# Load the model\n",
        "# loaded_model = keras.models.load_model('multi_label_model.h5')\n",
        "\n",
        "# Predictions on validation set\n",
        "val_binary_labels = np.array([np.asarray(x, dtype = np.float64) for x in val_data[\"Type\"]])\n",
        "\n",
        "val_predictions = multi_label_model.predict(encode_docs(tokenizer, max_len, val_data['Obs']))\n"
      ]
    },
    {
      "cell_type": "code",
      "execution_count": null,
      "id": "b2167567",
      "metadata": {
        "id": "b2167567",
        "outputId": "3462e49c-948c-4e09-a1b9-2293c72c1e25"
      },
      "outputs": [
        {
          "data": {
            "text/plain": [
              "array([[0., 0., 0., ..., 1., 0., 0.],\n",
              "       [0., 0., 0., ..., 0., 1., 0.],\n",
              "       [0., 1., 0., ..., 0., 0., 0.],\n",
              "       ...,\n",
              "       [0., 0., 0., ..., 0., 0., 0.],\n",
              "       [0., 0., 1., ..., 0., 0., 0.],\n",
              "       [0., 1., 0., ..., 0., 0., 0.]])"
            ]
          },
          "execution_count": 204,
          "metadata": {},
          "output_type": "execute_result"
        }
      ],
      "source": [
        "# Threshold predictions for binary classification\n",
        "binary_val_predictions = (val_predictions > 0.5).astype(int)\n",
        "\n"
      ]
    },
    {
      "cell_type": "code",
      "execution_count": null,
      "id": "e2754ae5",
      "metadata": {
        "id": "e2754ae5",
        "outputId": "7822c015-0f14-45a8-ab62-f6ac2efed4bb"
      },
      "outputs": [
        {
          "name": "stdout",
          "output_type": "stream",
          "text": [
            "Classification Report:\n",
            "              precision    recall  f1-score   support\n",
            "\n",
            "          B3       0.94      0.52      0.67        33\n",
            "          B4       0.91      0.57      0.70        35\n",
            "          A3       0.62      0.16      0.26        31\n",
            "          B1       0.95      0.67      0.78        30\n",
            "          B2       0.95      0.67      0.78        27\n",
            "          A1       0.79      0.39      0.52        28\n",
            "          A2       0.63      0.46      0.53        26\n",
            "\n",
            "   micro avg       0.85      0.49      0.62       210\n",
            "   macro avg       0.83      0.49      0.61       210\n",
            "weighted avg       0.83      0.49      0.61       210\n",
            " samples avg       0.49      0.49      0.49       210\n",
            "\n"
          ]
        },
        {
          "name": "stderr",
          "output_type": "stream",
          "text": [
            "C:\\Users\\DELL\\AppData\\Roaming\\Python\\Python37\\site-packages\\sklearn\\metrics\\_classification.py:1318: UndefinedMetricWarning: Precision and F-score are ill-defined and being set to 0.0 in samples with no predicted labels. Use `zero_division` parameter to control this behavior.\n",
            "  _warn_prf(average, modifier, msg_start, len(result))\n"
          ]
        }
      ],
      "source": [
        "# Obtain precision, recall, F1-score, and print the classification report\n",
        "print(\"Classification Report:\")\n",
        "print(classification_report(val_binary_labels, binary_val_predictions, target_names=class_to_index.keys()))"
      ]
    },
    {
      "cell_type": "markdown",
      "id": "99ad42ce",
      "metadata": {
        "id": "99ad42ce"
      },
      "source": [
        "## Third Pass (BERT)"
      ]
    },
    {
      "cell_type": "code",
      "source": [
        "!pip install transformers"
      ],
      "metadata": {
        "id": "epQdzfwcH1R3"
      },
      "id": "epQdzfwcH1R3",
      "execution_count": null,
      "outputs": []
    },
    {
      "cell_type": "code",
      "execution_count": 154,
      "id": "2edd188a",
      "metadata": {
        "id": "2edd188a"
      },
      "outputs": [],
      "source": [
        "\n",
        "from transformers import BertTokenizer, BertForSequenceClassification, AdamW\n",
        "from torch.utils.data import DataLoader, TensorDataset\n",
        "import torch\n",
        "from torch.utils.data import Dataset\n"
      ]
    },
    {
      "cell_type": "code",
      "source": [
        "df3 = pd.DataFrame()\n",
        "df3[\"Obs\"] = df[\"Obs\"]\n",
        "df3[\"Type\"] = [arr for arr in df[df[\"Type\"].unique()].values]"
      ],
      "metadata": {
        "colab": {
          "base_uri": "https://localhost:8080/",
          "height": 423
        },
        "id": "KwvZWARHIZ5r",
        "outputId": "12188fda-014b-43df-d28b-b12f63ee1af3"
      },
      "id": "KwvZWARHIZ5r",
      "execution_count": 121,
      "outputs": [
        {
          "output_type": "execute_result",
          "data": {
            "text/plain": [
              "                                                    Obs                   Type\n",
              "0     Observed child fixated on a particular texture...  [1, 0, 0, 0, 0, 0, 0]\n",
              "1     Patient's focus centers on vacuum cleaners, st...  [1, 0, 0, 0, 0, 0, 0]\n",
              "2     Displays a strong interest in smelling various...  [0, 1, 0, 0, 0, 0, 0]\n",
              "3     Patient's attachment to a specific book is evi...  [1, 0, 0, 0, 0, 0, 0]\n",
              "4     Limited awareness of personal boundaries, inva...  [0, 0, 1, 0, 0, 0, 0]\n",
              "...                                                 ...                    ...\n",
              "1045  Displays a need for consistency in clothing ch...  [0, 0, 0, 0, 1, 0, 0]\n",
              "1046  Patient shows a strong attachment to a single ...  [1, 0, 0, 0, 0, 0, 0]\n",
              "1047  Child displays a tendency to focus on irreleva...  [0, 0, 0, 0, 0, 0, 1]\n",
              "1048  Displays a tendency to monologue about persona...  [0, 0, 1, 0, 0, 0, 0]\n",
              "1049  Engages in persistent rocking back and forth w...  [0, 0, 0, 1, 0, 0, 0]\n",
              "\n",
              "[1050 rows x 2 columns]"
            ],
            "text/html": [
              "\n",
              "  <div id=\"df-75048f42-5c81-434d-ba21-b15447d7aab9\" class=\"colab-df-container\">\n",
              "    <div>\n",
              "<style scoped>\n",
              "    .dataframe tbody tr th:only-of-type {\n",
              "        vertical-align: middle;\n",
              "    }\n",
              "\n",
              "    .dataframe tbody tr th {\n",
              "        vertical-align: top;\n",
              "    }\n",
              "\n",
              "    .dataframe thead th {\n",
              "        text-align: right;\n",
              "    }\n",
              "</style>\n",
              "<table border=\"1\" class=\"dataframe\">\n",
              "  <thead>\n",
              "    <tr style=\"text-align: right;\">\n",
              "      <th></th>\n",
              "      <th>Obs</th>\n",
              "      <th>Type</th>\n",
              "    </tr>\n",
              "  </thead>\n",
              "  <tbody>\n",
              "    <tr>\n",
              "      <th>0</th>\n",
              "      <td>Observed child fixated on a particular texture...</td>\n",
              "      <td>[1, 0, 0, 0, 0, 0, 0]</td>\n",
              "    </tr>\n",
              "    <tr>\n",
              "      <th>1</th>\n",
              "      <td>Patient's focus centers on vacuum cleaners, st...</td>\n",
              "      <td>[1, 0, 0, 0, 0, 0, 0]</td>\n",
              "    </tr>\n",
              "    <tr>\n",
              "      <th>2</th>\n",
              "      <td>Displays a strong interest in smelling various...</td>\n",
              "      <td>[0, 1, 0, 0, 0, 0, 0]</td>\n",
              "    </tr>\n",
              "    <tr>\n",
              "      <th>3</th>\n",
              "      <td>Patient's attachment to a specific book is evi...</td>\n",
              "      <td>[1, 0, 0, 0, 0, 0, 0]</td>\n",
              "    </tr>\n",
              "    <tr>\n",
              "      <th>4</th>\n",
              "      <td>Limited awareness of personal boundaries, inva...</td>\n",
              "      <td>[0, 0, 1, 0, 0, 0, 0]</td>\n",
              "    </tr>\n",
              "    <tr>\n",
              "      <th>...</th>\n",
              "      <td>...</td>\n",
              "      <td>...</td>\n",
              "    </tr>\n",
              "    <tr>\n",
              "      <th>1045</th>\n",
              "      <td>Displays a need for consistency in clothing ch...</td>\n",
              "      <td>[0, 0, 0, 0, 1, 0, 0]</td>\n",
              "    </tr>\n",
              "    <tr>\n",
              "      <th>1046</th>\n",
              "      <td>Patient shows a strong attachment to a single ...</td>\n",
              "      <td>[1, 0, 0, 0, 0, 0, 0]</td>\n",
              "    </tr>\n",
              "    <tr>\n",
              "      <th>1047</th>\n",
              "      <td>Child displays a tendency to focus on irreleva...</td>\n",
              "      <td>[0, 0, 0, 0, 0, 0, 1]</td>\n",
              "    </tr>\n",
              "    <tr>\n",
              "      <th>1048</th>\n",
              "      <td>Displays a tendency to monologue about persona...</td>\n",
              "      <td>[0, 0, 1, 0, 0, 0, 0]</td>\n",
              "    </tr>\n",
              "    <tr>\n",
              "      <th>1049</th>\n",
              "      <td>Engages in persistent rocking back and forth w...</td>\n",
              "      <td>[0, 0, 0, 1, 0, 0, 0]</td>\n",
              "    </tr>\n",
              "  </tbody>\n",
              "</table>\n",
              "<p>1050 rows × 2 columns</p>\n",
              "</div>\n",
              "    <div class=\"colab-df-buttons\">\n",
              "\n",
              "  <div class=\"colab-df-container\">\n",
              "    <button class=\"colab-df-convert\" onclick=\"convertToInteractive('df-75048f42-5c81-434d-ba21-b15447d7aab9')\"\n",
              "            title=\"Convert this dataframe to an interactive table.\"\n",
              "            style=\"display:none;\">\n",
              "\n",
              "  <svg xmlns=\"http://www.w3.org/2000/svg\" height=\"24px\" viewBox=\"0 -960 960 960\">\n",
              "    <path d=\"M120-120v-720h720v720H120Zm60-500h600v-160H180v160Zm220 220h160v-160H400v160Zm0 220h160v-160H400v160ZM180-400h160v-160H180v160Zm440 0h160v-160H620v160ZM180-180h160v-160H180v160Zm440 0h160v-160H620v160Z\"/>\n",
              "  </svg>\n",
              "    </button>\n",
              "\n",
              "  <style>\n",
              "    .colab-df-container {\n",
              "      display:flex;\n",
              "      gap: 12px;\n",
              "    }\n",
              "\n",
              "    .colab-df-convert {\n",
              "      background-color: #E8F0FE;\n",
              "      border: none;\n",
              "      border-radius: 50%;\n",
              "      cursor: pointer;\n",
              "      display: none;\n",
              "      fill: #1967D2;\n",
              "      height: 32px;\n",
              "      padding: 0 0 0 0;\n",
              "      width: 32px;\n",
              "    }\n",
              "\n",
              "    .colab-df-convert:hover {\n",
              "      background-color: #E2EBFA;\n",
              "      box-shadow: 0px 1px 2px rgba(60, 64, 67, 0.3), 0px 1px 3px 1px rgba(60, 64, 67, 0.15);\n",
              "      fill: #174EA6;\n",
              "    }\n",
              "\n",
              "    .colab-df-buttons div {\n",
              "      margin-bottom: 4px;\n",
              "    }\n",
              "\n",
              "    [theme=dark] .colab-df-convert {\n",
              "      background-color: #3B4455;\n",
              "      fill: #D2E3FC;\n",
              "    }\n",
              "\n",
              "    [theme=dark] .colab-df-convert:hover {\n",
              "      background-color: #434B5C;\n",
              "      box-shadow: 0px 1px 3px 1px rgba(0, 0, 0, 0.15);\n",
              "      filter: drop-shadow(0px 1px 2px rgba(0, 0, 0, 0.3));\n",
              "      fill: #FFFFFF;\n",
              "    }\n",
              "  </style>\n",
              "\n",
              "    <script>\n",
              "      const buttonEl =\n",
              "        document.querySelector('#df-75048f42-5c81-434d-ba21-b15447d7aab9 button.colab-df-convert');\n",
              "      buttonEl.style.display =\n",
              "        google.colab.kernel.accessAllowed ? 'block' : 'none';\n",
              "\n",
              "      async function convertToInteractive(key) {\n",
              "        const element = document.querySelector('#df-75048f42-5c81-434d-ba21-b15447d7aab9');\n",
              "        const dataTable =\n",
              "          await google.colab.kernel.invokeFunction('convertToInteractive',\n",
              "                                                    [key], {});\n",
              "        if (!dataTable) return;\n",
              "\n",
              "        const docLinkHtml = 'Like what you see? Visit the ' +\n",
              "          '<a target=\"_blank\" href=https://colab.research.google.com/notebooks/data_table.ipynb>data table notebook</a>'\n",
              "          + ' to learn more about interactive tables.';\n",
              "        element.innerHTML = '';\n",
              "        dataTable['output_type'] = 'display_data';\n",
              "        await google.colab.output.renderOutput(dataTable, element);\n",
              "        const docLink = document.createElement('div');\n",
              "        docLink.innerHTML = docLinkHtml;\n",
              "        element.appendChild(docLink);\n",
              "      }\n",
              "    </script>\n",
              "  </div>\n",
              "\n",
              "\n",
              "<div id=\"df-24fdc62d-f04b-473b-94e7-1c89a434ae80\">\n",
              "  <button class=\"colab-df-quickchart\" onclick=\"quickchart('df-24fdc62d-f04b-473b-94e7-1c89a434ae80')\"\n",
              "            title=\"Suggest charts\"\n",
              "            style=\"display:none;\">\n",
              "\n",
              "<svg xmlns=\"http://www.w3.org/2000/svg\" height=\"24px\"viewBox=\"0 0 24 24\"\n",
              "     width=\"24px\">\n",
              "    <g>\n",
              "        <path d=\"M19 3H5c-1.1 0-2 .9-2 2v14c0 1.1.9 2 2 2h14c1.1 0 2-.9 2-2V5c0-1.1-.9-2-2-2zM9 17H7v-7h2v7zm4 0h-2V7h2v10zm4 0h-2v-4h2v4z\"/>\n",
              "    </g>\n",
              "</svg>\n",
              "  </button>\n",
              "\n",
              "<style>\n",
              "  .colab-df-quickchart {\n",
              "      --bg-color: #E8F0FE;\n",
              "      --fill-color: #1967D2;\n",
              "      --hover-bg-color: #E2EBFA;\n",
              "      --hover-fill-color: #174EA6;\n",
              "      --disabled-fill-color: #AAA;\n",
              "      --disabled-bg-color: #DDD;\n",
              "  }\n",
              "\n",
              "  [theme=dark] .colab-df-quickchart {\n",
              "      --bg-color: #3B4455;\n",
              "      --fill-color: #D2E3FC;\n",
              "      --hover-bg-color: #434B5C;\n",
              "      --hover-fill-color: #FFFFFF;\n",
              "      --disabled-bg-color: #3B4455;\n",
              "      --disabled-fill-color: #666;\n",
              "  }\n",
              "\n",
              "  .colab-df-quickchart {\n",
              "    background-color: var(--bg-color);\n",
              "    border: none;\n",
              "    border-radius: 50%;\n",
              "    cursor: pointer;\n",
              "    display: none;\n",
              "    fill: var(--fill-color);\n",
              "    height: 32px;\n",
              "    padding: 0;\n",
              "    width: 32px;\n",
              "  }\n",
              "\n",
              "  .colab-df-quickchart:hover {\n",
              "    background-color: var(--hover-bg-color);\n",
              "    box-shadow: 0 1px 2px rgba(60, 64, 67, 0.3), 0 1px 3px 1px rgba(60, 64, 67, 0.15);\n",
              "    fill: var(--button-hover-fill-color);\n",
              "  }\n",
              "\n",
              "  .colab-df-quickchart-complete:disabled,\n",
              "  .colab-df-quickchart-complete:disabled:hover {\n",
              "    background-color: var(--disabled-bg-color);\n",
              "    fill: var(--disabled-fill-color);\n",
              "    box-shadow: none;\n",
              "  }\n",
              "\n",
              "  .colab-df-spinner {\n",
              "    border: 2px solid var(--fill-color);\n",
              "    border-color: transparent;\n",
              "    border-bottom-color: var(--fill-color);\n",
              "    animation:\n",
              "      spin 1s steps(1) infinite;\n",
              "  }\n",
              "\n",
              "  @keyframes spin {\n",
              "    0% {\n",
              "      border-color: transparent;\n",
              "      border-bottom-color: var(--fill-color);\n",
              "      border-left-color: var(--fill-color);\n",
              "    }\n",
              "    20% {\n",
              "      border-color: transparent;\n",
              "      border-left-color: var(--fill-color);\n",
              "      border-top-color: var(--fill-color);\n",
              "    }\n",
              "    30% {\n",
              "      border-color: transparent;\n",
              "      border-left-color: var(--fill-color);\n",
              "      border-top-color: var(--fill-color);\n",
              "      border-right-color: var(--fill-color);\n",
              "    }\n",
              "    40% {\n",
              "      border-color: transparent;\n",
              "      border-right-color: var(--fill-color);\n",
              "      border-top-color: var(--fill-color);\n",
              "    }\n",
              "    60% {\n",
              "      border-color: transparent;\n",
              "      border-right-color: var(--fill-color);\n",
              "    }\n",
              "    80% {\n",
              "      border-color: transparent;\n",
              "      border-right-color: var(--fill-color);\n",
              "      border-bottom-color: var(--fill-color);\n",
              "    }\n",
              "    90% {\n",
              "      border-color: transparent;\n",
              "      border-bottom-color: var(--fill-color);\n",
              "    }\n",
              "  }\n",
              "</style>\n",
              "\n",
              "  <script>\n",
              "    async function quickchart(key) {\n",
              "      const quickchartButtonEl =\n",
              "        document.querySelector('#' + key + ' button');\n",
              "      quickchartButtonEl.disabled = true;  // To prevent multiple clicks.\n",
              "      quickchartButtonEl.classList.add('colab-df-spinner');\n",
              "      try {\n",
              "        const charts = await google.colab.kernel.invokeFunction(\n",
              "            'suggestCharts', [key], {});\n",
              "      } catch (error) {\n",
              "        console.error('Error during call to suggestCharts:', error);\n",
              "      }\n",
              "      quickchartButtonEl.classList.remove('colab-df-spinner');\n",
              "      quickchartButtonEl.classList.add('colab-df-quickchart-complete');\n",
              "    }\n",
              "    (() => {\n",
              "      let quickchartButtonEl =\n",
              "        document.querySelector('#df-24fdc62d-f04b-473b-94e7-1c89a434ae80 button');\n",
              "      quickchartButtonEl.style.display =\n",
              "        google.colab.kernel.accessAllowed ? 'block' : 'none';\n",
              "    })();\n",
              "  </script>\n",
              "</div>\n",
              "    </div>\n",
              "  </div>\n"
            ]
          },
          "metadata": {},
          "execution_count": 121
        }
      ]
    },
    {
      "cell_type": "code",
      "execution_count": 122,
      "id": "d6047496",
      "metadata": {
        "id": "d6047496"
      },
      "outputs": [],
      "source": [
        "\n",
        "# Split the dataset into training and validation sets\n",
        "train_data, val_data = train_test_split(df3, test_size=0.2, random_state=42)\n"
      ]
    },
    {
      "cell_type": "code",
      "source": [
        "\n",
        "\n",
        "# Load pre-trained BERT model and tokenizer\n",
        "model_name = 'bert-base-uncased'  # You can try other BERT models as well\n",
        "tokenizer = BertTokenizer.from_pretrained(model_name)\n",
        "model = TFBertForSequenceClassification.from_pretrained(model_name, num_labels=len(df['Type'].unique()))\n",
        "\n",
        "\n",
        "train_inputs = tokenizer.batch_encode_plus(list(train_data['Obs']), add_special_tokens=True, padding=True, truncation=True, return_tensors='np', max_length=tokenizer.model_max_length)\n",
        "val_inputs = tokenizer.batch_encode_plus(list(val_data['Obs']), add_special_tokens=True, padding=True, truncation=True, return_tensors='np', max_length=tokenizer.model_max_length)\n",
        "\n",
        "\n",
        "\n",
        "train_labels = tf.convert_to_tensor([label for label in train_data[\"Type\"]])\n",
        "val_labels = tf.convert_to_tensor([label for label in val_data[\"Type\"]])\n",
        "\n",
        "\n"
      ],
      "metadata": {
        "colab": {
          "base_uri": "https://localhost:8080/"
        },
        "id": "8tNrwAzmdiiG",
        "outputId": "dbdb0cfd-cc6b-459f-81a5-1e14601f1911"
      },
      "id": "8tNrwAzmdiiG",
      "execution_count": 218,
      "outputs": [
        {
          "output_type": "stream",
          "name": "stderr",
          "text": [
            "All PyTorch model weights were used when initializing TFBertForSequenceClassification.\n",
            "\n",
            "Some weights or buffers of the TF 2.0 model TFBertForSequenceClassification were not initialized from the PyTorch model and are newly initialized: ['classifier.weight', 'classifier.bias']\n",
            "You should probably TRAIN this model on a down-stream task to be able to use it for predictions and inference.\n"
          ]
        }
      ]
    },
    {
      "cell_type": "code",
      "source": [
        "\n",
        "\n",
        "model.compile(optimizer=tf.keras.optimizers.Adam(learning_rate=3e-5, epsilon=1e-08, clipnorm=1.0),\n",
        "              loss=tf.keras.losses.CategoricalCrossentropy(from_logits=True),\n",
        "              metrics=[Precision(), Recall()])\n",
        "\n",
        "history = model.fit(dict(train_inputs), train_labels, epochs=10, batch_size=8,\n",
        "          validation_data=(dict(val_inputs), val_labels)\n",
        "          )"
      ],
      "metadata": {
        "colab": {
          "base_uri": "https://localhost:8080/"
        },
        "id": "SC1RONlSf7Dl",
        "outputId": "b17eb808-bf84-4b7a-8193-204d1549d468"
      },
      "id": "SC1RONlSf7Dl",
      "execution_count": 219,
      "outputs": [
        {
          "output_type": "stream",
          "name": "stdout",
          "text": [
            "105/105 [==============================] - 12s 115ms/step - loss: 0.0167 - precision_15: 0.8392 - recall_15: 1.0000 - val_loss: 0.7050 - val_precision_15: 0.6455 - val_recall_15: 0.9190\n",
            "Epoch 9/10\n",
            "105/105 [==============================] - 12s 116ms/step - loss: 0.0273 - precision_15: 0.8342 - recall_15: 1.0000 - val_loss: 0.7551 - val_precision_15: 0.5952 - val_recall_15: 0.9381\n",
            "Epoch 10/10\n",
            "105/105 [==============================] - 14s 135ms/step - loss: 0.0093 - precision_15: 0.8425 - recall_15: 1.0000 - val_loss: 0.6910 - val_precision_15: 0.6989 - val_recall_15: 0.9286\n"
          ]
        }
      ]
    },
    {
      "cell_type": "code",
      "source": [],
      "metadata": {
        "colab": {
          "base_uri": "https://localhost:8080/"
        },
        "id": "1XsrZqg5lKqZ",
        "outputId": "ab4dfc52-aa57-4164-e3c2-7ae9579db5cb"
      },
      "id": "1XsrZqg5lKqZ",
      "execution_count": 200,
      "outputs": [
        {
          "output_type": "execute_result",
          "data": {
            "text/plain": [
              "dict_keys(['input_ids', 'token_type_ids', 'attention_mask'])"
            ]
          },
          "metadata": {},
          "execution_count": 200
        }
      ]
    },
    {
      "cell_type": "code",
      "source": [
        "\n",
        "# Save the fine-tuned model\n",
        "model.save_pretrained('/content/fine_tuned_bert_model_tf')\n",
        "\n",
        "# Load the fine-tuned model\n",
        "fine_tuned_model_tf = TFBertForSequenceClassification.from_pretrained('/content/fine_tuned_bert_model_tf')\n",
        "\n"
      ],
      "metadata": {
        "colab": {
          "base_uri": "https://localhost:8080/"
        },
        "id": "OJLPRfsjdwhi",
        "outputId": "8484a47d-d8bc-42c6-f705-6e4ba724267b"
      },
      "id": "OJLPRfsjdwhi",
      "execution_count": 220,
      "outputs": [
        {
          "output_type": "stream",
          "name": "stderr",
          "text": [
            "Some layers from the model checkpoint at /content/fine_tuned_bert_model_tf were not used when initializing TFBertForSequenceClassification: ['dropout_455']\n",
            "- This IS expected if you are initializing TFBertForSequenceClassification from the checkpoint of a model trained on another task or with another architecture (e.g. initializing a BertForSequenceClassification model from a BertForPreTraining model).\n",
            "- This IS NOT expected if you are initializing TFBertForSequenceClassification from the checkpoint of a model that you expect to be exactly identical (initializing a BertForSequenceClassification model from a BertForSequenceClassification model).\n",
            "All the layers of TFBertForSequenceClassification were initialized from the model checkpoint at /content/fine_tuned_bert_model_tf.\n",
            "If your task is similar to the task the model of the checkpoint was trained on, you can already use TFBertForSequenceClassification for predictions without further training.\n"
          ]
        }
      ]
    },
    {
      "cell_type": "code",
      "source": [
        "# Evaluation on the validation set\n",
        "val_preds_tf = fine_tuned_model_tf.predict(dict(val_inputs))['logits']\n",
        "val_preds_tf = tf.math.sigmoid(val_preds_tf)\n",
        "\n",
        "# Threshold predictions for binary classification\n",
        "binary_val_preds_tf = (val_preds_tf > 0.5).numpy()\n"
      ],
      "metadata": {
        "colab": {
          "base_uri": "https://localhost:8080/"
        },
        "id": "mUzcnUnZfAOR",
        "outputId": "84a83b70-a8fc-45ed-db8c-0fc60dbd547c"
      },
      "id": "mUzcnUnZfAOR",
      "execution_count": 222,
      "outputs": [
        {
          "output_type": "stream",
          "name": "stdout",
          "text": [
            "7/7 [==============================] - 8s 99ms/step\n"
          ]
        }
      ]
    },
    {
      "cell_type": "code",
      "source": [
        "\n",
        "\n",
        "# Obtain precision, recall, F1-score, and print the classification report\n",
        "print(\"Fine-tuned BERT Classification Report:\")\n",
        "print(classification_report(val_labels.numpy(), binary_val_preds_tf, target_names=df['Type'].explode().unique()))\n"
      ],
      "metadata": {
        "colab": {
          "base_uri": "https://localhost:8080/"
        },
        "id": "pJCHT6RofA38",
        "outputId": "0128cc9d-9a82-4a7f-e825-32342ccd451a"
      },
      "id": "pJCHT6RofA38",
      "execution_count": 224,
      "outputs": [
        {
          "output_type": "stream",
          "name": "stdout",
          "text": [
            "Fine-tuned BERT Classification Report:\n",
            "              precision    recall  f1-score   support\n",
            "\n",
            "          B3       0.70      0.97      0.81        36\n",
            "          B4       0.61      1.00      0.76        27\n",
            "          A3       0.65      0.90      0.76        31\n",
            "          B1       0.79      0.94      0.86        35\n",
            "          B2       0.48      1.00      0.65        26\n",
            "          A1       0.44      0.93      0.60        29\n",
            "          A2       0.67      0.92      0.77        26\n",
            "\n",
            "   micro avg       0.61      0.95      0.74       210\n",
            "   macro avg       0.62      0.95      0.74       210\n",
            "weighted avg       0.63      0.95      0.75       210\n",
            " samples avg       0.72      0.95      0.79       210\n",
            "\n"
          ]
        }
      ]
    },
    {
      "cell_type": "code",
      "source": [],
      "metadata": {
        "id": "9f9PotEQroCw"
      },
      "id": "9f9PotEQroCw",
      "execution_count": null,
      "outputs": []
    }
  ],
  "metadata": {
    "kernelspec": {
      "display_name": "Python 3",
      "name": "python3"
    },
    "language_info": {
      "codemirror_mode": {
        "name": "ipython",
        "version": 3
      },
      "file_extension": ".py",
      "mimetype": "text/x-python",
      "name": "python",
      "nbconvert_exporter": "python",
      "pygments_lexer": "ipython3",
      "version": "3.7.6"
    },
    "colab": {
      "provenance": []
    }
  },
  "nbformat": 4,
  "nbformat_minor": 5
}